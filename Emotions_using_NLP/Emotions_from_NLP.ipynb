{
  "nbformat": 4,
  "nbformat_minor": 0,
  "metadata": {
    "colab": {
      "provenance": []
    },
    "kernelspec": {
      "name": "python3",
      "display_name": "Python 3"
    },
    "language_info": {
      "name": "python"
    }
  },
  "cells": [
    {
      "cell_type": "markdown",
      "source": [
        "Dataset link : https://www.kaggle.com/datasets/praveengovi/emotions-dataset-for-nlp/data"
      ],
      "metadata": {
        "id": "KYCiQgKON-q0"
      }
    },
    {
      "cell_type": "code",
      "source": [
        "import pandas as pd\n",
        "import numpy as np\n",
        "import matplotlib.pyplot as plt\n",
        "import sklearn\n",
        "from sklearn.feature_extraction.text import CountVectorizer\n",
        "from sklearn.metrics import accuracy_score\n",
        "from sklearn.pipeline import Pipeline\n",
        "from sklearn.svm import SVC\n",
        "from sklearn.ensemble import RandomForestClassifier\n",
        "from sklearn.linear_model import LogisticRegression\n",
        "from sklearn.ensemble import VotingClassifier"
      ],
      "metadata": {
        "id": "2BVVB6ouORYL"
      },
      "execution_count": null,
      "outputs": []
    },
    {
      "cell_type": "code",
      "execution_count": null,
      "metadata": {
        "id": "Vxk_OU-4JkeL"
      },
      "outputs": [],
      "source": [
        "file_path='/content/drive/MyDrive/IPD/EmotionDatasetNLP/train.txt'\n",
        "train=pd.read_csv(file_path, sep=';', header=None, names=['Text', 'Emotion'])\n",
        "\n",
        "file_path='/content/drive/MyDrive/IPD/EmotionDatasetNLP/test.txt'\n",
        "test=pd.read_csv(file_path, sep=';', header=None, names=['Text', 'Emotion'])\n",
        "\n",
        "file_path='/content/drive/MyDrive/IPD/EmotionDatasetNLP/val.txt'\n",
        "val=pd.read_csv(file_path, sep=';', header=None, names=['Text', 'Emotion'])"
      ]
    },
    {
      "cell_type": "code",
      "source": [
        "train.head()"
      ],
      "metadata": {
        "colab": {
          "base_uri": "https://localhost:8080/",
          "height": 206
        },
        "id": "itBkjY8POzV1",
        "outputId": "7dcead87-6d45-49d2-b3f6-ee60ebde5718"
      },
      "execution_count": null,
      "outputs": [
        {
          "output_type": "execute_result",
          "data": {
            "text/plain": [
              "                                                Text  Emotion\n",
              "0                            i didnt feel humiliated  sadness\n",
              "1  i can go from feeling so hopeless to so damned...  sadness\n",
              "2   im grabbing a minute to post i feel greedy wrong    anger\n",
              "3  i am ever feeling nostalgic about the fireplac...     love\n",
              "4                               i am feeling grouchy    anger"
            ],
            "text/html": [
              "\n",
              "  <div id=\"df-938af04f-690b-402e-a060-494b46a29697\" class=\"colab-df-container\">\n",
              "    <div>\n",
              "<style scoped>\n",
              "    .dataframe tbody tr th:only-of-type {\n",
              "        vertical-align: middle;\n",
              "    }\n",
              "\n",
              "    .dataframe tbody tr th {\n",
              "        vertical-align: top;\n",
              "    }\n",
              "\n",
              "    .dataframe thead th {\n",
              "        text-align: right;\n",
              "    }\n",
              "</style>\n",
              "<table border=\"1\" class=\"dataframe\">\n",
              "  <thead>\n",
              "    <tr style=\"text-align: right;\">\n",
              "      <th></th>\n",
              "      <th>Text</th>\n",
              "      <th>Emotion</th>\n",
              "    </tr>\n",
              "  </thead>\n",
              "  <tbody>\n",
              "    <tr>\n",
              "      <th>0</th>\n",
              "      <td>i didnt feel humiliated</td>\n",
              "      <td>sadness</td>\n",
              "    </tr>\n",
              "    <tr>\n",
              "      <th>1</th>\n",
              "      <td>i can go from feeling so hopeless to so damned...</td>\n",
              "      <td>sadness</td>\n",
              "    </tr>\n",
              "    <tr>\n",
              "      <th>2</th>\n",
              "      <td>im grabbing a minute to post i feel greedy wrong</td>\n",
              "      <td>anger</td>\n",
              "    </tr>\n",
              "    <tr>\n",
              "      <th>3</th>\n",
              "      <td>i am ever feeling nostalgic about the fireplac...</td>\n",
              "      <td>love</td>\n",
              "    </tr>\n",
              "    <tr>\n",
              "      <th>4</th>\n",
              "      <td>i am feeling grouchy</td>\n",
              "      <td>anger</td>\n",
              "    </tr>\n",
              "  </tbody>\n",
              "</table>\n",
              "</div>\n",
              "    <div class=\"colab-df-buttons\">\n",
              "\n",
              "  <div class=\"colab-df-container\">\n",
              "    <button class=\"colab-df-convert\" onclick=\"convertToInteractive('df-938af04f-690b-402e-a060-494b46a29697')\"\n",
              "            title=\"Convert this dataframe to an interactive table.\"\n",
              "            style=\"display:none;\">\n",
              "\n",
              "  <svg xmlns=\"http://www.w3.org/2000/svg\" height=\"24px\" viewBox=\"0 -960 960 960\">\n",
              "    <path d=\"M120-120v-720h720v720H120Zm60-500h600v-160H180v160Zm220 220h160v-160H400v160Zm0 220h160v-160H400v160ZM180-400h160v-160H180v160Zm440 0h160v-160H620v160ZM180-180h160v-160H180v160Zm440 0h160v-160H620v160Z\"/>\n",
              "  </svg>\n",
              "    </button>\n",
              "\n",
              "  <style>\n",
              "    .colab-df-container {\n",
              "      display:flex;\n",
              "      gap: 12px;\n",
              "    }\n",
              "\n",
              "    .colab-df-convert {\n",
              "      background-color: #E8F0FE;\n",
              "      border: none;\n",
              "      border-radius: 50%;\n",
              "      cursor: pointer;\n",
              "      display: none;\n",
              "      fill: #1967D2;\n",
              "      height: 32px;\n",
              "      padding: 0 0 0 0;\n",
              "      width: 32px;\n",
              "    }\n",
              "\n",
              "    .colab-df-convert:hover {\n",
              "      background-color: #E2EBFA;\n",
              "      box-shadow: 0px 1px 2px rgba(60, 64, 67, 0.3), 0px 1px 3px 1px rgba(60, 64, 67, 0.15);\n",
              "      fill: #174EA6;\n",
              "    }\n",
              "\n",
              "    .colab-df-buttons div {\n",
              "      margin-bottom: 4px;\n",
              "    }\n",
              "\n",
              "    [theme=dark] .colab-df-convert {\n",
              "      background-color: #3B4455;\n",
              "      fill: #D2E3FC;\n",
              "    }\n",
              "\n",
              "    [theme=dark] .colab-df-convert:hover {\n",
              "      background-color: #434B5C;\n",
              "      box-shadow: 0px 1px 3px 1px rgba(0, 0, 0, 0.15);\n",
              "      filter: drop-shadow(0px 1px 2px rgba(0, 0, 0, 0.3));\n",
              "      fill: #FFFFFF;\n",
              "    }\n",
              "  </style>\n",
              "\n",
              "    <script>\n",
              "      const buttonEl =\n",
              "        document.querySelector('#df-938af04f-690b-402e-a060-494b46a29697 button.colab-df-convert');\n",
              "      buttonEl.style.display =\n",
              "        google.colab.kernel.accessAllowed ? 'block' : 'none';\n",
              "\n",
              "      async function convertToInteractive(key) {\n",
              "        const element = document.querySelector('#df-938af04f-690b-402e-a060-494b46a29697');\n",
              "        const dataTable =\n",
              "          await google.colab.kernel.invokeFunction('convertToInteractive',\n",
              "                                                    [key], {});\n",
              "        if (!dataTable) return;\n",
              "\n",
              "        const docLinkHtml = 'Like what you see? Visit the ' +\n",
              "          '<a target=\"_blank\" href=https://colab.research.google.com/notebooks/data_table.ipynb>data table notebook</a>'\n",
              "          + ' to learn more about interactive tables.';\n",
              "        element.innerHTML = '';\n",
              "        dataTable['output_type'] = 'display_data';\n",
              "        await google.colab.output.renderOutput(dataTable, element);\n",
              "        const docLink = document.createElement('div');\n",
              "        docLink.innerHTML = docLinkHtml;\n",
              "        element.appendChild(docLink);\n",
              "      }\n",
              "    </script>\n",
              "  </div>\n",
              "\n",
              "\n",
              "<div id=\"df-61da0b4c-e9fc-403d-bee6-934f8f3c31b8\">\n",
              "  <button class=\"colab-df-quickchart\" onclick=\"quickchart('df-61da0b4c-e9fc-403d-bee6-934f8f3c31b8')\"\n",
              "            title=\"Suggest charts\"\n",
              "            style=\"display:none;\">\n",
              "\n",
              "<svg xmlns=\"http://www.w3.org/2000/svg\" height=\"24px\"viewBox=\"0 0 24 24\"\n",
              "     width=\"24px\">\n",
              "    <g>\n",
              "        <path d=\"M19 3H5c-1.1 0-2 .9-2 2v14c0 1.1.9 2 2 2h14c1.1 0 2-.9 2-2V5c0-1.1-.9-2-2-2zM9 17H7v-7h2v7zm4 0h-2V7h2v10zm4 0h-2v-4h2v4z\"/>\n",
              "    </g>\n",
              "</svg>\n",
              "  </button>\n",
              "\n",
              "<style>\n",
              "  .colab-df-quickchart {\n",
              "      --bg-color: #E8F0FE;\n",
              "      --fill-color: #1967D2;\n",
              "      --hover-bg-color: #E2EBFA;\n",
              "      --hover-fill-color: #174EA6;\n",
              "      --disabled-fill-color: #AAA;\n",
              "      --disabled-bg-color: #DDD;\n",
              "  }\n",
              "\n",
              "  [theme=dark] .colab-df-quickchart {\n",
              "      --bg-color: #3B4455;\n",
              "      --fill-color: #D2E3FC;\n",
              "      --hover-bg-color: #434B5C;\n",
              "      --hover-fill-color: #FFFFFF;\n",
              "      --disabled-bg-color: #3B4455;\n",
              "      --disabled-fill-color: #666;\n",
              "  }\n",
              "\n",
              "  .colab-df-quickchart {\n",
              "    background-color: var(--bg-color);\n",
              "    border: none;\n",
              "    border-radius: 50%;\n",
              "    cursor: pointer;\n",
              "    display: none;\n",
              "    fill: var(--fill-color);\n",
              "    height: 32px;\n",
              "    padding: 0;\n",
              "    width: 32px;\n",
              "  }\n",
              "\n",
              "  .colab-df-quickchart:hover {\n",
              "    background-color: var(--hover-bg-color);\n",
              "    box-shadow: 0 1px 2px rgba(60, 64, 67, 0.3), 0 1px 3px 1px rgba(60, 64, 67, 0.15);\n",
              "    fill: var(--button-hover-fill-color);\n",
              "  }\n",
              "\n",
              "  .colab-df-quickchart-complete:disabled,\n",
              "  .colab-df-quickchart-complete:disabled:hover {\n",
              "    background-color: var(--disabled-bg-color);\n",
              "    fill: var(--disabled-fill-color);\n",
              "    box-shadow: none;\n",
              "  }\n",
              "\n",
              "  .colab-df-spinner {\n",
              "    border: 2px solid var(--fill-color);\n",
              "    border-color: transparent;\n",
              "    border-bottom-color: var(--fill-color);\n",
              "    animation:\n",
              "      spin 1s steps(1) infinite;\n",
              "  }\n",
              "\n",
              "  @keyframes spin {\n",
              "    0% {\n",
              "      border-color: transparent;\n",
              "      border-bottom-color: var(--fill-color);\n",
              "      border-left-color: var(--fill-color);\n",
              "    }\n",
              "    20% {\n",
              "      border-color: transparent;\n",
              "      border-left-color: var(--fill-color);\n",
              "      border-top-color: var(--fill-color);\n",
              "    }\n",
              "    30% {\n",
              "      border-color: transparent;\n",
              "      border-left-color: var(--fill-color);\n",
              "      border-top-color: var(--fill-color);\n",
              "      border-right-color: var(--fill-color);\n",
              "    }\n",
              "    40% {\n",
              "      border-color: transparent;\n",
              "      border-right-color: var(--fill-color);\n",
              "      border-top-color: var(--fill-color);\n",
              "    }\n",
              "    60% {\n",
              "      border-color: transparent;\n",
              "      border-right-color: var(--fill-color);\n",
              "    }\n",
              "    80% {\n",
              "      border-color: transparent;\n",
              "      border-right-color: var(--fill-color);\n",
              "      border-bottom-color: var(--fill-color);\n",
              "    }\n",
              "    90% {\n",
              "      border-color: transparent;\n",
              "      border-bottom-color: var(--fill-color);\n",
              "    }\n",
              "  }\n",
              "</style>\n",
              "\n",
              "  <script>\n",
              "    async function quickchart(key) {\n",
              "      const quickchartButtonEl =\n",
              "        document.querySelector('#' + key + ' button');\n",
              "      quickchartButtonEl.disabled = true;  // To prevent multiple clicks.\n",
              "      quickchartButtonEl.classList.add('colab-df-spinner');\n",
              "      try {\n",
              "        const charts = await google.colab.kernel.invokeFunction(\n",
              "            'suggestCharts', [key], {});\n",
              "      } catch (error) {\n",
              "        console.error('Error during call to suggestCharts:', error);\n",
              "      }\n",
              "      quickchartButtonEl.classList.remove('colab-df-spinner');\n",
              "      quickchartButtonEl.classList.add('colab-df-quickchart-complete');\n",
              "    }\n",
              "    (() => {\n",
              "      let quickchartButtonEl =\n",
              "        document.querySelector('#df-61da0b4c-e9fc-403d-bee6-934f8f3c31b8 button');\n",
              "      quickchartButtonEl.style.display =\n",
              "        google.colab.kernel.accessAllowed ? 'block' : 'none';\n",
              "    })();\n",
              "  </script>\n",
              "</div>\n",
              "\n",
              "    </div>\n",
              "  </div>\n"
            ],
            "application/vnd.google.colaboratory.intrinsic+json": {
              "type": "dataframe",
              "variable_name": "train",
              "summary": "{\n  \"name\": \"train\",\n  \"rows\": 16000,\n  \"fields\": [\n    {\n      \"column\": \"Text\",\n      \"properties\": {\n        \"dtype\": \"string\",\n        \"num_unique_values\": 15969,\n        \"samples\": [\n          \"i feel rather imbicilic or at least complacent\",\n          \"i was in the bathroom i had sat down to pee it was to make me feel submissive again per instructions\",\n          \"i am thrilled with the way my skin and hair feel if you are like me you are skeptical\"\n        ],\n        \"semantic_type\": \"\",\n        \"description\": \"\"\n      }\n    },\n    {\n      \"column\": \"Emotion\",\n      \"properties\": {\n        \"dtype\": \"category\",\n        \"num_unique_values\": 6,\n        \"samples\": [\n          \"sadness\",\n          \"anger\",\n          \"joy\"\n        ],\n        \"semantic_type\": \"\",\n        \"description\": \"\"\n      }\n    }\n  ]\n}"
            }
          },
          "metadata": {},
          "execution_count": 3
        }
      ]
    },
    {
      "cell_type": "code",
      "source": [
        "test.head()"
      ],
      "metadata": {
        "colab": {
          "base_uri": "https://localhost:8080/",
          "height": 206
        },
        "id": "RND4z2R-TLTA",
        "outputId": "08ea2579-d324-4be2-cd9b-3655ead521a9"
      },
      "execution_count": null,
      "outputs": [
        {
          "output_type": "execute_result",
          "data": {
            "text/plain": [
              "                                                Text  Emotion\n",
              "0  im feeling rather rotten so im not very ambiti...  sadness\n",
              "1          im updating my blog because i feel shitty  sadness\n",
              "2  i never make her separate from me because i do...  sadness\n",
              "3  i left with my bouquet of red and yellow tulip...      joy\n",
              "4    i was feeling a little vain when i did this one  sadness"
            ],
            "text/html": [
              "\n",
              "  <div id=\"df-936bc7fe-0354-4844-91de-b663ab609b44\" class=\"colab-df-container\">\n",
              "    <div>\n",
              "<style scoped>\n",
              "    .dataframe tbody tr th:only-of-type {\n",
              "        vertical-align: middle;\n",
              "    }\n",
              "\n",
              "    .dataframe tbody tr th {\n",
              "        vertical-align: top;\n",
              "    }\n",
              "\n",
              "    .dataframe thead th {\n",
              "        text-align: right;\n",
              "    }\n",
              "</style>\n",
              "<table border=\"1\" class=\"dataframe\">\n",
              "  <thead>\n",
              "    <tr style=\"text-align: right;\">\n",
              "      <th></th>\n",
              "      <th>Text</th>\n",
              "      <th>Emotion</th>\n",
              "    </tr>\n",
              "  </thead>\n",
              "  <tbody>\n",
              "    <tr>\n",
              "      <th>0</th>\n",
              "      <td>im feeling rather rotten so im not very ambiti...</td>\n",
              "      <td>sadness</td>\n",
              "    </tr>\n",
              "    <tr>\n",
              "      <th>1</th>\n",
              "      <td>im updating my blog because i feel shitty</td>\n",
              "      <td>sadness</td>\n",
              "    </tr>\n",
              "    <tr>\n",
              "      <th>2</th>\n",
              "      <td>i never make her separate from me because i do...</td>\n",
              "      <td>sadness</td>\n",
              "    </tr>\n",
              "    <tr>\n",
              "      <th>3</th>\n",
              "      <td>i left with my bouquet of red and yellow tulip...</td>\n",
              "      <td>joy</td>\n",
              "    </tr>\n",
              "    <tr>\n",
              "      <th>4</th>\n",
              "      <td>i was feeling a little vain when i did this one</td>\n",
              "      <td>sadness</td>\n",
              "    </tr>\n",
              "  </tbody>\n",
              "</table>\n",
              "</div>\n",
              "    <div class=\"colab-df-buttons\">\n",
              "\n",
              "  <div class=\"colab-df-container\">\n",
              "    <button class=\"colab-df-convert\" onclick=\"convertToInteractive('df-936bc7fe-0354-4844-91de-b663ab609b44')\"\n",
              "            title=\"Convert this dataframe to an interactive table.\"\n",
              "            style=\"display:none;\">\n",
              "\n",
              "  <svg xmlns=\"http://www.w3.org/2000/svg\" height=\"24px\" viewBox=\"0 -960 960 960\">\n",
              "    <path d=\"M120-120v-720h720v720H120Zm60-500h600v-160H180v160Zm220 220h160v-160H400v160Zm0 220h160v-160H400v160ZM180-400h160v-160H180v160Zm440 0h160v-160H620v160ZM180-180h160v-160H180v160Zm440 0h160v-160H620v160Z\"/>\n",
              "  </svg>\n",
              "    </button>\n",
              "\n",
              "  <style>\n",
              "    .colab-df-container {\n",
              "      display:flex;\n",
              "      gap: 12px;\n",
              "    }\n",
              "\n",
              "    .colab-df-convert {\n",
              "      background-color: #E8F0FE;\n",
              "      border: none;\n",
              "      border-radius: 50%;\n",
              "      cursor: pointer;\n",
              "      display: none;\n",
              "      fill: #1967D2;\n",
              "      height: 32px;\n",
              "      padding: 0 0 0 0;\n",
              "      width: 32px;\n",
              "    }\n",
              "\n",
              "    .colab-df-convert:hover {\n",
              "      background-color: #E2EBFA;\n",
              "      box-shadow: 0px 1px 2px rgba(60, 64, 67, 0.3), 0px 1px 3px 1px rgba(60, 64, 67, 0.15);\n",
              "      fill: #174EA6;\n",
              "    }\n",
              "\n",
              "    .colab-df-buttons div {\n",
              "      margin-bottom: 4px;\n",
              "    }\n",
              "\n",
              "    [theme=dark] .colab-df-convert {\n",
              "      background-color: #3B4455;\n",
              "      fill: #D2E3FC;\n",
              "    }\n",
              "\n",
              "    [theme=dark] .colab-df-convert:hover {\n",
              "      background-color: #434B5C;\n",
              "      box-shadow: 0px 1px 3px 1px rgba(0, 0, 0, 0.15);\n",
              "      filter: drop-shadow(0px 1px 2px rgba(0, 0, 0, 0.3));\n",
              "      fill: #FFFFFF;\n",
              "    }\n",
              "  </style>\n",
              "\n",
              "    <script>\n",
              "      const buttonEl =\n",
              "        document.querySelector('#df-936bc7fe-0354-4844-91de-b663ab609b44 button.colab-df-convert');\n",
              "      buttonEl.style.display =\n",
              "        google.colab.kernel.accessAllowed ? 'block' : 'none';\n",
              "\n",
              "      async function convertToInteractive(key) {\n",
              "        const element = document.querySelector('#df-936bc7fe-0354-4844-91de-b663ab609b44');\n",
              "        const dataTable =\n",
              "          await google.colab.kernel.invokeFunction('convertToInteractive',\n",
              "                                                    [key], {});\n",
              "        if (!dataTable) return;\n",
              "\n",
              "        const docLinkHtml = 'Like what you see? Visit the ' +\n",
              "          '<a target=\"_blank\" href=https://colab.research.google.com/notebooks/data_table.ipynb>data table notebook</a>'\n",
              "          + ' to learn more about interactive tables.';\n",
              "        element.innerHTML = '';\n",
              "        dataTable['output_type'] = 'display_data';\n",
              "        await google.colab.output.renderOutput(dataTable, element);\n",
              "        const docLink = document.createElement('div');\n",
              "        docLink.innerHTML = docLinkHtml;\n",
              "        element.appendChild(docLink);\n",
              "      }\n",
              "    </script>\n",
              "  </div>\n",
              "\n",
              "\n",
              "<div id=\"df-ea45131b-a0e7-44eb-ab7a-f65fb42f57a9\">\n",
              "  <button class=\"colab-df-quickchart\" onclick=\"quickchart('df-ea45131b-a0e7-44eb-ab7a-f65fb42f57a9')\"\n",
              "            title=\"Suggest charts\"\n",
              "            style=\"display:none;\">\n",
              "\n",
              "<svg xmlns=\"http://www.w3.org/2000/svg\" height=\"24px\"viewBox=\"0 0 24 24\"\n",
              "     width=\"24px\">\n",
              "    <g>\n",
              "        <path d=\"M19 3H5c-1.1 0-2 .9-2 2v14c0 1.1.9 2 2 2h14c1.1 0 2-.9 2-2V5c0-1.1-.9-2-2-2zM9 17H7v-7h2v7zm4 0h-2V7h2v10zm4 0h-2v-4h2v4z\"/>\n",
              "    </g>\n",
              "</svg>\n",
              "  </button>\n",
              "\n",
              "<style>\n",
              "  .colab-df-quickchart {\n",
              "      --bg-color: #E8F0FE;\n",
              "      --fill-color: #1967D2;\n",
              "      --hover-bg-color: #E2EBFA;\n",
              "      --hover-fill-color: #174EA6;\n",
              "      --disabled-fill-color: #AAA;\n",
              "      --disabled-bg-color: #DDD;\n",
              "  }\n",
              "\n",
              "  [theme=dark] .colab-df-quickchart {\n",
              "      --bg-color: #3B4455;\n",
              "      --fill-color: #D2E3FC;\n",
              "      --hover-bg-color: #434B5C;\n",
              "      --hover-fill-color: #FFFFFF;\n",
              "      --disabled-bg-color: #3B4455;\n",
              "      --disabled-fill-color: #666;\n",
              "  }\n",
              "\n",
              "  .colab-df-quickchart {\n",
              "    background-color: var(--bg-color);\n",
              "    border: none;\n",
              "    border-radius: 50%;\n",
              "    cursor: pointer;\n",
              "    display: none;\n",
              "    fill: var(--fill-color);\n",
              "    height: 32px;\n",
              "    padding: 0;\n",
              "    width: 32px;\n",
              "  }\n",
              "\n",
              "  .colab-df-quickchart:hover {\n",
              "    background-color: var(--hover-bg-color);\n",
              "    box-shadow: 0 1px 2px rgba(60, 64, 67, 0.3), 0 1px 3px 1px rgba(60, 64, 67, 0.15);\n",
              "    fill: var(--button-hover-fill-color);\n",
              "  }\n",
              "\n",
              "  .colab-df-quickchart-complete:disabled,\n",
              "  .colab-df-quickchart-complete:disabled:hover {\n",
              "    background-color: var(--disabled-bg-color);\n",
              "    fill: var(--disabled-fill-color);\n",
              "    box-shadow: none;\n",
              "  }\n",
              "\n",
              "  .colab-df-spinner {\n",
              "    border: 2px solid var(--fill-color);\n",
              "    border-color: transparent;\n",
              "    border-bottom-color: var(--fill-color);\n",
              "    animation:\n",
              "      spin 1s steps(1) infinite;\n",
              "  }\n",
              "\n",
              "  @keyframes spin {\n",
              "    0% {\n",
              "      border-color: transparent;\n",
              "      border-bottom-color: var(--fill-color);\n",
              "      border-left-color: var(--fill-color);\n",
              "    }\n",
              "    20% {\n",
              "      border-color: transparent;\n",
              "      border-left-color: var(--fill-color);\n",
              "      border-top-color: var(--fill-color);\n",
              "    }\n",
              "    30% {\n",
              "      border-color: transparent;\n",
              "      border-left-color: var(--fill-color);\n",
              "      border-top-color: var(--fill-color);\n",
              "      border-right-color: var(--fill-color);\n",
              "    }\n",
              "    40% {\n",
              "      border-color: transparent;\n",
              "      border-right-color: var(--fill-color);\n",
              "      border-top-color: var(--fill-color);\n",
              "    }\n",
              "    60% {\n",
              "      border-color: transparent;\n",
              "      border-right-color: var(--fill-color);\n",
              "    }\n",
              "    80% {\n",
              "      border-color: transparent;\n",
              "      border-right-color: var(--fill-color);\n",
              "      border-bottom-color: var(--fill-color);\n",
              "    }\n",
              "    90% {\n",
              "      border-color: transparent;\n",
              "      border-bottom-color: var(--fill-color);\n",
              "    }\n",
              "  }\n",
              "</style>\n",
              "\n",
              "  <script>\n",
              "    async function quickchart(key) {\n",
              "      const quickchartButtonEl =\n",
              "        document.querySelector('#' + key + ' button');\n",
              "      quickchartButtonEl.disabled = true;  // To prevent multiple clicks.\n",
              "      quickchartButtonEl.classList.add('colab-df-spinner');\n",
              "      try {\n",
              "        const charts = await google.colab.kernel.invokeFunction(\n",
              "            'suggestCharts', [key], {});\n",
              "      } catch (error) {\n",
              "        console.error('Error during call to suggestCharts:', error);\n",
              "      }\n",
              "      quickchartButtonEl.classList.remove('colab-df-spinner');\n",
              "      quickchartButtonEl.classList.add('colab-df-quickchart-complete');\n",
              "    }\n",
              "    (() => {\n",
              "      let quickchartButtonEl =\n",
              "        document.querySelector('#df-ea45131b-a0e7-44eb-ab7a-f65fb42f57a9 button');\n",
              "      quickchartButtonEl.style.display =\n",
              "        google.colab.kernel.accessAllowed ? 'block' : 'none';\n",
              "    })();\n",
              "  </script>\n",
              "</div>\n",
              "\n",
              "    </div>\n",
              "  </div>\n"
            ],
            "application/vnd.google.colaboratory.intrinsic+json": {
              "type": "dataframe",
              "variable_name": "test",
              "summary": "{\n  \"name\": \"test\",\n  \"rows\": 2000,\n  \"fields\": [\n    {\n      \"column\": \"Text\",\n      \"properties\": {\n        \"dtype\": \"string\",\n        \"num_unique_values\": 2000,\n        \"samples\": [\n          \"i feel so dirty but after spending a day at the mk show me and a buddy decided we would get the two player starter between us luckily for us both i liked the everblight and he liked the circle maybe a tad to much so it all worked out well\",\n          \"i could feel his breath on me and smell the sweet scent of him\",\n          \"i just want to feel loved by you\"\n        ],\n        \"semantic_type\": \"\",\n        \"description\": \"\"\n      }\n    },\n    {\n      \"column\": \"Emotion\",\n      \"properties\": {\n        \"dtype\": \"category\",\n        \"num_unique_values\": 6,\n        \"samples\": [\n          \"sadness\",\n          \"joy\",\n          \"surprise\"\n        ],\n        \"semantic_type\": \"\",\n        \"description\": \"\"\n      }\n    }\n  ]\n}"
            }
          },
          "metadata": {},
          "execution_count": 4
        }
      ]
    },
    {
      "cell_type": "code",
      "source": [
        "train['Emotion'].unique()"
      ],
      "metadata": {
        "colab": {
          "base_uri": "https://localhost:8080/"
        },
        "id": "E-6NdNfMRPNs",
        "outputId": "ddadeaae-57e7-48d2-9420-fafe939d4ee3"
      },
      "execution_count": null,
      "outputs": [
        {
          "output_type": "execute_result",
          "data": {
            "text/plain": [
              "array(['sadness', 'anger', 'love', 'surprise', 'fear', 'joy'],\n",
              "      dtype=object)"
            ]
          },
          "metadata": {},
          "execution_count": 5
        }
      ]
    },
    {
      "cell_type": "code",
      "source": [
        "import nltk\n",
        "from nltk.stem import WordNetLemmatizer\n",
        "from nltk.corpus import wordnet\n",
        "from nltk import pos_tag\n",
        "from nltk.corpus import stopwords\n",
        "from nltk.tokenize import word_tokenize\n",
        "\n",
        "\n",
        "lemmatizer = WordNetLemmatizer()\n",
        "\n",
        "nltk.download('punkt')\n",
        "nltk.download('stopwords')\n",
        "nltk.download('wordnet')\n",
        "nltk.download('omw-1.4')\n",
        "nltk.download('averaged_perceptron_tagger')\n",
        "\n",
        "stop_words = set(stopwords.words('english'))\n",
        "\n",
        "def remove_stopwords(text):\n",
        "    words = word_tokenize(text)\n",
        "    filtered_words = [word for word in words if word.lower() not in stop_words]\n",
        "    return ' '.join(filtered_words)\n",
        "\n",
        "def get_wordnet_pos(tag):\n",
        "    if tag.startswith('J'):\n",
        "        return wordnet.ADJ\n",
        "    elif tag.startswith('V'):\n",
        "        return wordnet.VERB\n",
        "    elif tag.startswith('N'):\n",
        "        return wordnet.NOUN\n",
        "    elif tag.startswith('R'):\n",
        "        return wordnet.ADV\n",
        "    else:\n",
        "        return wordnet.NOUN\n",
        "\n",
        "def lemmatize_text(text):\n",
        "    words = nltk.word_tokenize(text)\n",
        "    pos_tags = pos_tag(words)\n",
        "    lemmatized_words = [lemmatizer.lemmatize(word, get_wordnet_pos(tag)) for word, tag in pos_tags]\n",
        "    return ' '.join(lemmatized_words)\n",
        "\n",
        "train['Text']=train['Text'].apply(remove_stopwords)\n",
        "test['Text']=test['Text'].apply(remove_stopwords)\n",
        "val['Text']=val['Text'].apply(remove_stopwords)\n",
        "\n",
        "train['Text']=train['Text'].apply(lemmatize_text)\n",
        "test['Text']=test['Text'].apply(lemmatize_text)\n",
        "val['Text']=val['Text'].apply(lemmatize_text)"
      ],
      "metadata": {
        "colab": {
          "base_uri": "https://localhost:8080/"
        },
        "id": "-rXbIbHwfsdF",
        "outputId": "29d84b54-7346-46d5-91ea-373e6dbf1fa3"
      },
      "execution_count": null,
      "outputs": [
        {
          "output_type": "stream",
          "name": "stderr",
          "text": [
            "[nltk_data] Downloading package punkt to /root/nltk_data...\n",
            "[nltk_data]   Unzipping tokenizers/punkt.zip.\n",
            "[nltk_data] Downloading package stopwords to /root/nltk_data...\n",
            "[nltk_data]   Unzipping corpora/stopwords.zip.\n",
            "[nltk_data] Downloading package wordnet to /root/nltk_data...\n",
            "[nltk_data] Downloading package omw-1.4 to /root/nltk_data...\n",
            "[nltk_data] Downloading package averaged_perceptron_tagger to\n",
            "[nltk_data]     /root/nltk_data...\n",
            "[nltk_data]   Unzipping taggers/averaged_perceptron_tagger.zip.\n"
          ]
        }
      ]
    },
    {
      "cell_type": "code",
      "source": [
        "from sklearn.preprocessing import LabelEncoder\n",
        "\n",
        "le=LabelEncoder()\n",
        "\n",
        "train['Emotion']=le.fit_transform(train['Emotion'])\n",
        "val['Emotion']=le.fit_transform(val['Emotion'])\n",
        "test['Emotion']=le.fit_transform(test['Emotion'])"
      ],
      "metadata": {
        "id": "FeFgeH1kwbZn"
      },
      "execution_count": null,
      "outputs": []
    },
    {
      "cell_type": "code",
      "source": [
        "train.head()"
      ],
      "metadata": {
        "colab": {
          "base_uri": "https://localhost:8080/",
          "height": 206
        },
        "id": "7tgb74KMwxYv",
        "outputId": "644c14e2-f402-4b05-b054-0115f69d0715"
      },
      "execution_count": null,
      "outputs": [
        {
          "output_type": "execute_result",
          "data": {
            "text/plain": [
              "                                                Text  Emotion\n",
              "0                               didnt feel humiliate        4\n",
              "1  go feeling hopeless damn hopeful around someon...        4\n",
              "2              im grab minute post feel greedy wrong        0\n",
              "3  ever feel nostalgic fireplace know still property        3\n",
              "4                                       feel grouchy        0"
            ],
            "text/html": [
              "\n",
              "  <div id=\"df-a4157a7d-7375-415a-97f6-0bc176c5e607\" class=\"colab-df-container\">\n",
              "    <div>\n",
              "<style scoped>\n",
              "    .dataframe tbody tr th:only-of-type {\n",
              "        vertical-align: middle;\n",
              "    }\n",
              "\n",
              "    .dataframe tbody tr th {\n",
              "        vertical-align: top;\n",
              "    }\n",
              "\n",
              "    .dataframe thead th {\n",
              "        text-align: right;\n",
              "    }\n",
              "</style>\n",
              "<table border=\"1\" class=\"dataframe\">\n",
              "  <thead>\n",
              "    <tr style=\"text-align: right;\">\n",
              "      <th></th>\n",
              "      <th>Text</th>\n",
              "      <th>Emotion</th>\n",
              "    </tr>\n",
              "  </thead>\n",
              "  <tbody>\n",
              "    <tr>\n",
              "      <th>0</th>\n",
              "      <td>didnt feel humiliate</td>\n",
              "      <td>4</td>\n",
              "    </tr>\n",
              "    <tr>\n",
              "      <th>1</th>\n",
              "      <td>go feeling hopeless damn hopeful around someon...</td>\n",
              "      <td>4</td>\n",
              "    </tr>\n",
              "    <tr>\n",
              "      <th>2</th>\n",
              "      <td>im grab minute post feel greedy wrong</td>\n",
              "      <td>0</td>\n",
              "    </tr>\n",
              "    <tr>\n",
              "      <th>3</th>\n",
              "      <td>ever feel nostalgic fireplace know still property</td>\n",
              "      <td>3</td>\n",
              "    </tr>\n",
              "    <tr>\n",
              "      <th>4</th>\n",
              "      <td>feel grouchy</td>\n",
              "      <td>0</td>\n",
              "    </tr>\n",
              "  </tbody>\n",
              "</table>\n",
              "</div>\n",
              "    <div class=\"colab-df-buttons\">\n",
              "\n",
              "  <div class=\"colab-df-container\">\n",
              "    <button class=\"colab-df-convert\" onclick=\"convertToInteractive('df-a4157a7d-7375-415a-97f6-0bc176c5e607')\"\n",
              "            title=\"Convert this dataframe to an interactive table.\"\n",
              "            style=\"display:none;\">\n",
              "\n",
              "  <svg xmlns=\"http://www.w3.org/2000/svg\" height=\"24px\" viewBox=\"0 -960 960 960\">\n",
              "    <path d=\"M120-120v-720h720v720H120Zm60-500h600v-160H180v160Zm220 220h160v-160H400v160Zm0 220h160v-160H400v160ZM180-400h160v-160H180v160Zm440 0h160v-160H620v160ZM180-180h160v-160H180v160Zm440 0h160v-160H620v160Z\"/>\n",
              "  </svg>\n",
              "    </button>\n",
              "\n",
              "  <style>\n",
              "    .colab-df-container {\n",
              "      display:flex;\n",
              "      gap: 12px;\n",
              "    }\n",
              "\n",
              "    .colab-df-convert {\n",
              "      background-color: #E8F0FE;\n",
              "      border: none;\n",
              "      border-radius: 50%;\n",
              "      cursor: pointer;\n",
              "      display: none;\n",
              "      fill: #1967D2;\n",
              "      height: 32px;\n",
              "      padding: 0 0 0 0;\n",
              "      width: 32px;\n",
              "    }\n",
              "\n",
              "    .colab-df-convert:hover {\n",
              "      background-color: #E2EBFA;\n",
              "      box-shadow: 0px 1px 2px rgba(60, 64, 67, 0.3), 0px 1px 3px 1px rgba(60, 64, 67, 0.15);\n",
              "      fill: #174EA6;\n",
              "    }\n",
              "\n",
              "    .colab-df-buttons div {\n",
              "      margin-bottom: 4px;\n",
              "    }\n",
              "\n",
              "    [theme=dark] .colab-df-convert {\n",
              "      background-color: #3B4455;\n",
              "      fill: #D2E3FC;\n",
              "    }\n",
              "\n",
              "    [theme=dark] .colab-df-convert:hover {\n",
              "      background-color: #434B5C;\n",
              "      box-shadow: 0px 1px 3px 1px rgba(0, 0, 0, 0.15);\n",
              "      filter: drop-shadow(0px 1px 2px rgba(0, 0, 0, 0.3));\n",
              "      fill: #FFFFFF;\n",
              "    }\n",
              "  </style>\n",
              "\n",
              "    <script>\n",
              "      const buttonEl =\n",
              "        document.querySelector('#df-a4157a7d-7375-415a-97f6-0bc176c5e607 button.colab-df-convert');\n",
              "      buttonEl.style.display =\n",
              "        google.colab.kernel.accessAllowed ? 'block' : 'none';\n",
              "\n",
              "      async function convertToInteractive(key) {\n",
              "        const element = document.querySelector('#df-a4157a7d-7375-415a-97f6-0bc176c5e607');\n",
              "        const dataTable =\n",
              "          await google.colab.kernel.invokeFunction('convertToInteractive',\n",
              "                                                    [key], {});\n",
              "        if (!dataTable) return;\n",
              "\n",
              "        const docLinkHtml = 'Like what you see? Visit the ' +\n",
              "          '<a target=\"_blank\" href=https://colab.research.google.com/notebooks/data_table.ipynb>data table notebook</a>'\n",
              "          + ' to learn more about interactive tables.';\n",
              "        element.innerHTML = '';\n",
              "        dataTable['output_type'] = 'display_data';\n",
              "        await google.colab.output.renderOutput(dataTable, element);\n",
              "        const docLink = document.createElement('div');\n",
              "        docLink.innerHTML = docLinkHtml;\n",
              "        element.appendChild(docLink);\n",
              "      }\n",
              "    </script>\n",
              "  </div>\n",
              "\n",
              "\n",
              "<div id=\"df-3a0b24de-c683-454a-b0e5-00e10246d260\">\n",
              "  <button class=\"colab-df-quickchart\" onclick=\"quickchart('df-3a0b24de-c683-454a-b0e5-00e10246d260')\"\n",
              "            title=\"Suggest charts\"\n",
              "            style=\"display:none;\">\n",
              "\n",
              "<svg xmlns=\"http://www.w3.org/2000/svg\" height=\"24px\"viewBox=\"0 0 24 24\"\n",
              "     width=\"24px\">\n",
              "    <g>\n",
              "        <path d=\"M19 3H5c-1.1 0-2 .9-2 2v14c0 1.1.9 2 2 2h14c1.1 0 2-.9 2-2V5c0-1.1-.9-2-2-2zM9 17H7v-7h2v7zm4 0h-2V7h2v10zm4 0h-2v-4h2v4z\"/>\n",
              "    </g>\n",
              "</svg>\n",
              "  </button>\n",
              "\n",
              "<style>\n",
              "  .colab-df-quickchart {\n",
              "      --bg-color: #E8F0FE;\n",
              "      --fill-color: #1967D2;\n",
              "      --hover-bg-color: #E2EBFA;\n",
              "      --hover-fill-color: #174EA6;\n",
              "      --disabled-fill-color: #AAA;\n",
              "      --disabled-bg-color: #DDD;\n",
              "  }\n",
              "\n",
              "  [theme=dark] .colab-df-quickchart {\n",
              "      --bg-color: #3B4455;\n",
              "      --fill-color: #D2E3FC;\n",
              "      --hover-bg-color: #434B5C;\n",
              "      --hover-fill-color: #FFFFFF;\n",
              "      --disabled-bg-color: #3B4455;\n",
              "      --disabled-fill-color: #666;\n",
              "  }\n",
              "\n",
              "  .colab-df-quickchart {\n",
              "    background-color: var(--bg-color);\n",
              "    border: none;\n",
              "    border-radius: 50%;\n",
              "    cursor: pointer;\n",
              "    display: none;\n",
              "    fill: var(--fill-color);\n",
              "    height: 32px;\n",
              "    padding: 0;\n",
              "    width: 32px;\n",
              "  }\n",
              "\n",
              "  .colab-df-quickchart:hover {\n",
              "    background-color: var(--hover-bg-color);\n",
              "    box-shadow: 0 1px 2px rgba(60, 64, 67, 0.3), 0 1px 3px 1px rgba(60, 64, 67, 0.15);\n",
              "    fill: var(--button-hover-fill-color);\n",
              "  }\n",
              "\n",
              "  .colab-df-quickchart-complete:disabled,\n",
              "  .colab-df-quickchart-complete:disabled:hover {\n",
              "    background-color: var(--disabled-bg-color);\n",
              "    fill: var(--disabled-fill-color);\n",
              "    box-shadow: none;\n",
              "  }\n",
              "\n",
              "  .colab-df-spinner {\n",
              "    border: 2px solid var(--fill-color);\n",
              "    border-color: transparent;\n",
              "    border-bottom-color: var(--fill-color);\n",
              "    animation:\n",
              "      spin 1s steps(1) infinite;\n",
              "  }\n",
              "\n",
              "  @keyframes spin {\n",
              "    0% {\n",
              "      border-color: transparent;\n",
              "      border-bottom-color: var(--fill-color);\n",
              "      border-left-color: var(--fill-color);\n",
              "    }\n",
              "    20% {\n",
              "      border-color: transparent;\n",
              "      border-left-color: var(--fill-color);\n",
              "      border-top-color: var(--fill-color);\n",
              "    }\n",
              "    30% {\n",
              "      border-color: transparent;\n",
              "      border-left-color: var(--fill-color);\n",
              "      border-top-color: var(--fill-color);\n",
              "      border-right-color: var(--fill-color);\n",
              "    }\n",
              "    40% {\n",
              "      border-color: transparent;\n",
              "      border-right-color: var(--fill-color);\n",
              "      border-top-color: var(--fill-color);\n",
              "    }\n",
              "    60% {\n",
              "      border-color: transparent;\n",
              "      border-right-color: var(--fill-color);\n",
              "    }\n",
              "    80% {\n",
              "      border-color: transparent;\n",
              "      border-right-color: var(--fill-color);\n",
              "      border-bottom-color: var(--fill-color);\n",
              "    }\n",
              "    90% {\n",
              "      border-color: transparent;\n",
              "      border-bottom-color: var(--fill-color);\n",
              "    }\n",
              "  }\n",
              "</style>\n",
              "\n",
              "  <script>\n",
              "    async function quickchart(key) {\n",
              "      const quickchartButtonEl =\n",
              "        document.querySelector('#' + key + ' button');\n",
              "      quickchartButtonEl.disabled = true;  // To prevent multiple clicks.\n",
              "      quickchartButtonEl.classList.add('colab-df-spinner');\n",
              "      try {\n",
              "        const charts = await google.colab.kernel.invokeFunction(\n",
              "            'suggestCharts', [key], {});\n",
              "      } catch (error) {\n",
              "        console.error('Error during call to suggestCharts:', error);\n",
              "      }\n",
              "      quickchartButtonEl.classList.remove('colab-df-spinner');\n",
              "      quickchartButtonEl.classList.add('colab-df-quickchart-complete');\n",
              "    }\n",
              "    (() => {\n",
              "      let quickchartButtonEl =\n",
              "        document.querySelector('#df-3a0b24de-c683-454a-b0e5-00e10246d260 button');\n",
              "      quickchartButtonEl.style.display =\n",
              "        google.colab.kernel.accessAllowed ? 'block' : 'none';\n",
              "    })();\n",
              "  </script>\n",
              "</div>\n",
              "\n",
              "    </div>\n",
              "  </div>\n"
            ],
            "application/vnd.google.colaboratory.intrinsic+json": {
              "type": "dataframe",
              "variable_name": "train",
              "summary": "{\n  \"name\": \"train\",\n  \"rows\": 16000,\n  \"fields\": [\n    {\n      \"column\": \"Text\",\n      \"properties\": {\n        \"dtype\": \"string\",\n        \"num_unique_values\": 15862,\n        \"samples\": [\n          \"feel please support people small business work home buying gift make care talent\",\n          \"glimpse clarity take reign feel calm\",\n          \"feel pretty jade lately pace life dont mind something fun like kill zombie real life xd dont happen reason get butt something fun\"\n        ],\n        \"semantic_type\": \"\",\n        \"description\": \"\"\n      }\n    },\n    {\n      \"column\": \"Emotion\",\n      \"properties\": {\n        \"dtype\": \"number\",\n        \"std\": 1,\n        \"min\": 0,\n        \"max\": 5,\n        \"num_unique_values\": 6,\n        \"samples\": [\n          4,\n          0,\n          2\n        ],\n        \"semantic_type\": \"\",\n        \"description\": \"\"\n      }\n    }\n  ]\n}"
            }
          },
          "metadata": {},
          "execution_count": 8
        }
      ]
    },
    {
      "cell_type": "code",
      "source": [
        "x_train=train['Text']\n",
        "y_train=train['Emotion']\n",
        "\n",
        "x_test=test['Text']\n",
        "y_test=test['Emotion']\n",
        "\n",
        "x_val=val['Text']\n",
        "y_val=val['Emotion']"
      ],
      "metadata": {
        "id": "DdcW_SU3O1sp"
      },
      "execution_count": null,
      "outputs": []
    },
    {
      "cell_type": "markdown",
      "source": [
        "# Random Forest Classifier"
      ],
      "metadata": {
        "id": "HvwvrDMqNdhR"
      }
    },
    {
      "cell_type": "code",
      "source": [
        "vectorizer = CountVectorizer(max_features=3000)\n",
        "RF = RandomForestClassifier(\n",
        "    n_estimators=100, random_state=42, verbose=0,  # Set verbose to 0 to suppress messages\n",
        "    max_depth=100, min_samples_split=100, min_samples_leaf=5, max_features='sqrt'\n",
        ")\n",
        "\n",
        "pipeline = Pipeline([\n",
        "    (\"vectorizer\", vectorizer),\n",
        "    (\"classifier\", RF)\n",
        "])\n",
        "\n",
        "pipeline.fit(x_train, y_train)"
      ],
      "metadata": {
        "colab": {
          "base_uri": "https://localhost:8080/",
          "height": 125
        },
        "id": "jXaa0nQLJsa1",
        "outputId": "118c2550-8dcf-4ac5-b1ae-a4b54b625a9f"
      },
      "execution_count": null,
      "outputs": [
        {
          "output_type": "execute_result",
          "data": {
            "text/plain": [
              "Pipeline(steps=[('vectorizer', CountVectorizer(max_features=3000)),\n",
              "                ('classifier',\n",
              "                 RandomForestClassifier(max_depth=100, min_samples_leaf=5,\n",
              "                                        min_samples_split=100,\n",
              "                                        random_state=42))])"
            ],
            "text/html": [
              "<style>#sk-container-id-1 {color: black;}#sk-container-id-1 pre{padding: 0;}#sk-container-id-1 div.sk-toggleable {background-color: white;}#sk-container-id-1 label.sk-toggleable__label {cursor: pointer;display: block;width: 100%;margin-bottom: 0;padding: 0.3em;box-sizing: border-box;text-align: center;}#sk-container-id-1 label.sk-toggleable__label-arrow:before {content: \"▸\";float: left;margin-right: 0.25em;color: #696969;}#sk-container-id-1 label.sk-toggleable__label-arrow:hover:before {color: black;}#sk-container-id-1 div.sk-estimator:hover label.sk-toggleable__label-arrow:before {color: black;}#sk-container-id-1 div.sk-toggleable__content {max-height: 0;max-width: 0;overflow: hidden;text-align: left;background-color: #f0f8ff;}#sk-container-id-1 div.sk-toggleable__content pre {margin: 0.2em;color: black;border-radius: 0.25em;background-color: #f0f8ff;}#sk-container-id-1 input.sk-toggleable__control:checked~div.sk-toggleable__content {max-height: 200px;max-width: 100%;overflow: auto;}#sk-container-id-1 input.sk-toggleable__control:checked~label.sk-toggleable__label-arrow:before {content: \"▾\";}#sk-container-id-1 div.sk-estimator input.sk-toggleable__control:checked~label.sk-toggleable__label {background-color: #d4ebff;}#sk-container-id-1 div.sk-label input.sk-toggleable__control:checked~label.sk-toggleable__label {background-color: #d4ebff;}#sk-container-id-1 input.sk-hidden--visually {border: 0;clip: rect(1px 1px 1px 1px);clip: rect(1px, 1px, 1px, 1px);height: 1px;margin: -1px;overflow: hidden;padding: 0;position: absolute;width: 1px;}#sk-container-id-1 div.sk-estimator {font-family: monospace;background-color: #f0f8ff;border: 1px dotted black;border-radius: 0.25em;box-sizing: border-box;margin-bottom: 0.5em;}#sk-container-id-1 div.sk-estimator:hover {background-color: #d4ebff;}#sk-container-id-1 div.sk-parallel-item::after {content: \"\";width: 100%;border-bottom: 1px solid gray;flex-grow: 1;}#sk-container-id-1 div.sk-label:hover label.sk-toggleable__label {background-color: #d4ebff;}#sk-container-id-1 div.sk-serial::before {content: \"\";position: absolute;border-left: 1px solid gray;box-sizing: border-box;top: 0;bottom: 0;left: 50%;z-index: 0;}#sk-container-id-1 div.sk-serial {display: flex;flex-direction: column;align-items: center;background-color: white;padding-right: 0.2em;padding-left: 0.2em;position: relative;}#sk-container-id-1 div.sk-item {position: relative;z-index: 1;}#sk-container-id-1 div.sk-parallel {display: flex;align-items: stretch;justify-content: center;background-color: white;position: relative;}#sk-container-id-1 div.sk-item::before, #sk-container-id-1 div.sk-parallel-item::before {content: \"\";position: absolute;border-left: 1px solid gray;box-sizing: border-box;top: 0;bottom: 0;left: 50%;z-index: -1;}#sk-container-id-1 div.sk-parallel-item {display: flex;flex-direction: column;z-index: 1;position: relative;background-color: white;}#sk-container-id-1 div.sk-parallel-item:first-child::after {align-self: flex-end;width: 50%;}#sk-container-id-1 div.sk-parallel-item:last-child::after {align-self: flex-start;width: 50%;}#sk-container-id-1 div.sk-parallel-item:only-child::after {width: 0;}#sk-container-id-1 div.sk-dashed-wrapped {border: 1px dashed gray;margin: 0 0.4em 0.5em 0.4em;box-sizing: border-box;padding-bottom: 0.4em;background-color: white;}#sk-container-id-1 div.sk-label label {font-family: monospace;font-weight: bold;display: inline-block;line-height: 1.2em;}#sk-container-id-1 div.sk-label-container {text-align: center;}#sk-container-id-1 div.sk-container {/* jupyter's `normalize.less` sets `[hidden] { display: none; }` but bootstrap.min.css set `[hidden] { display: none !important; }` so we also need the `!important` here to be able to override the default hidden behavior on the sphinx rendered scikit-learn.org. See: https://github.com/scikit-learn/scikit-learn/issues/21755 */display: inline-block !important;position: relative;}#sk-container-id-1 div.sk-text-repr-fallback {display: none;}</style><div id=\"sk-container-id-1\" class=\"sk-top-container\"><div class=\"sk-text-repr-fallback\"><pre>Pipeline(steps=[(&#x27;vectorizer&#x27;, CountVectorizer(max_features=3000)),\n",
              "                (&#x27;classifier&#x27;,\n",
              "                 RandomForestClassifier(max_depth=100, min_samples_leaf=5,\n",
              "                                        min_samples_split=100,\n",
              "                                        random_state=42))])</pre><b>In a Jupyter environment, please rerun this cell to show the HTML representation or trust the notebook. <br />On GitHub, the HTML representation is unable to render, please try loading this page with nbviewer.org.</b></div><div class=\"sk-container\" hidden><div class=\"sk-item sk-dashed-wrapped\"><div class=\"sk-label-container\"><div class=\"sk-label sk-toggleable\"><input class=\"sk-toggleable__control sk-hidden--visually\" id=\"sk-estimator-id-1\" type=\"checkbox\" ><label for=\"sk-estimator-id-1\" class=\"sk-toggleable__label sk-toggleable__label-arrow\">Pipeline</label><div class=\"sk-toggleable__content\"><pre>Pipeline(steps=[(&#x27;vectorizer&#x27;, CountVectorizer(max_features=3000)),\n",
              "                (&#x27;classifier&#x27;,\n",
              "                 RandomForestClassifier(max_depth=100, min_samples_leaf=5,\n",
              "                                        min_samples_split=100,\n",
              "                                        random_state=42))])</pre></div></div></div><div class=\"sk-serial\"><div class=\"sk-item\"><div class=\"sk-estimator sk-toggleable\"><input class=\"sk-toggleable__control sk-hidden--visually\" id=\"sk-estimator-id-2\" type=\"checkbox\" ><label for=\"sk-estimator-id-2\" class=\"sk-toggleable__label sk-toggleable__label-arrow\">CountVectorizer</label><div class=\"sk-toggleable__content\"><pre>CountVectorizer(max_features=3000)</pre></div></div></div><div class=\"sk-item\"><div class=\"sk-estimator sk-toggleable\"><input class=\"sk-toggleable__control sk-hidden--visually\" id=\"sk-estimator-id-3\" type=\"checkbox\" ><label for=\"sk-estimator-id-3\" class=\"sk-toggleable__label sk-toggleable__label-arrow\">RandomForestClassifier</label><div class=\"sk-toggleable__content\"><pre>RandomForestClassifier(max_depth=100, min_samples_leaf=5, min_samples_split=100,\n",
              "                       random_state=42)</pre></div></div></div></div></div></div></div>"
            ]
          },
          "metadata": {},
          "execution_count": 10
        }
      ]
    },
    {
      "cell_type": "code",
      "source": [
        "train_accuracies = []\n",
        "test_accuracies = []\n",
        "val_accuracies = []\n",
        "\n",
        "for i in range(1, 80):\n",
        "    RF.set_params(n_estimators=i)\n",
        "    pipeline.fit(x_train, y_train)\n",
        "\n",
        "    # Accuracy for training set\n",
        "    train_pred = pipeline.predict(x_train)\n",
        "    train_accuracy = accuracy_score(y_train, train_pred)\n",
        "    train_accuracies.append(train_accuracy)\n",
        "\n",
        "\n",
        "    # Accuracy for test set\n",
        "    test_pred = pipeline.predict(x_test)\n",
        "    test_accuracy = accuracy_score(y_test, test_pred)\n",
        "    test_accuracies.append(test_accuracy)\n",
        "\n",
        "\n",
        "    # Accuracy for validation set\n",
        "    val_pred = pipeline.predict(x_val)\n",
        "    val_accuracy = accuracy_score(y_val, val_pred)\n",
        "    val_accuracies.append(val_accuracy)\n",
        "\n",
        "\n",
        "plt.figure(figsize=(10, 6))\n",
        "plt.plot(range(1, 80), train_accuracies, label='Training Accuracy')\n",
        "plt.plot(range(1, 80), test_accuracies, label='Test Accuracy')\n",
        "plt.plot(range(1, 80), val_accuracies, label='Validation Accuracy')\n",
        "plt.xlabel('Number of Estimators')\n",
        "plt.ylabel('Accuracy')\n",
        "plt.title('Accuracy vs Number of Estimators for Random Forest')\n",
        "plt.legend()\n",
        "plt.grid(True)\n",
        "plt.show()\n",
        "\n",
        "print(f\"Train Accuracy: {np.mean(train_accuracies) * 100:.2f}%\")\n",
        "print(f\"Test Accuracy: {np.mean(test_accuracies) * 100:.2f}%\")\n",
        "print(f\"Validation Accuracy: {np.mean(val_accuracies) * 100:.2f}%\")"
      ],
      "metadata": {
        "colab": {
          "base_uri": "https://localhost:8080/",
          "height": 616
        },
        "id": "-tAKPsrwMPzc",
        "outputId": "284d7d01-2b7e-4143-ef8c-b2564b04cfc2"
      },
      "execution_count": null,
      "outputs": [
        {
          "output_type": "display_data",
          "data": {
            "text/plain": [
              "<Figure size 1000x600 with 1 Axes>"
            ],
            "image/png": "[encoded data removed]"
          },
          "metadata": {}
        },
        {
          "output_type": "stream",
          "name": "stdout",
          "text": [
            "Train Accuracy: 74.79%\n",
            "Test Accuracy: 75.87%\n",
            "Validation Accuracy: 74.85%\n"
          ]
        }
      ]
    },
    {
      "cell_type": "markdown",
      "source": [
        "# Support Vector Classifier"
      ],
      "metadata": {
        "id": "zshjZx4JUyiV"
      }
    },
    {
      "cell_type": "code",
      "source": [
        "vectorizer = CountVectorizer(max_features=3000)\n",
        "svc=SVC(kernel='linear',C=0.5,gamma='scale',random_state=42,verbose=0)\n",
        "\n",
        "pipeline = Pipeline([\n",
        "    (\"vectorizer\", vectorizer),\n",
        "    (\"classifier\", svc)\n",
        "])\n",
        "\n",
        "pipeline.fit(x_train, y_train)\n",
        "print(pipeline.named_steps['vectorizer'].vocabulary_)"
      ],
      "metadata": {
        "id": "mzYntSyYNuy1",
        "colab": {
          "base_uri": "https://localhost:8080/"
        },
        "outputId": "5b61d1a4-9976-4bb7-b81d-f2fe6cd11f06"
      },
      "execution_count": null,
      "outputs": [
        {
          "output_type": "stream",
          "name": "stdout",
          "text": [
            "{'didnt': 717, 'feel': 998, 'humiliate': 1301, 'go': 1139, 'feeling': 1000, 'hopeless': 1282, 'damn': 642, 'hopeful': 1280, 'around': 156, 'someone': 2421, 'care': 388, 'awake': 196, 'im': 1321, 'grab': 1152, 'minute': 1663, 'post': 1982, 'greedy': 1169, 'wrong': 2971, 'ever': 904, 'nostalgic': 1772, 'know': 1462, 'still': 2493, 'grouchy': 1178, 'ive': 1415, 'little': 1539, 'burden': 353, 'lately': 1480, 'wasnt': 2877, 'sure': 2566, 'take': 2592, 'time': 2679, 'recommend': 2122, 'amount': 99, 'fall': 970, 'asleep': 167, 'lot': 1565, 'faster': 982, 'also': 84, 'like': 1524, 'funny': 1103, 'confuse': 536, 'life': 1518, 'teenager': 2612, 'jade': 1416, 'year': 2981, 'old': 1816, 'man': 1597, 'perform': 1902, 'well': 2903, 'make': 1592, 'huge': 1298, 'profit': 2039, 'romantic': 2215, 'suffer': 2546, 'see': 2282, 'mean': 1618, 'something': 2422, 'run': 2230, 'divine': 771, 'experience': 937, 'expect': 933, 'type': 2765, 'spiritual': 2460, 'encounter': 862, 'think': 2654, 'easy': 830, 'dissatisfy': 761, 'low': 1573, 'energy': 872, 'sympathy': 2585, 'general': 1115, 'point': 1963, 'possible': 1980, 'writer': 2969, 'try': 2752, 'find': 1020, 'write': 2968, 'corner': 576, 'sign': 2357, 'let': 1510, 'alone': 79, 'publish': 2055, 'contract': 560, 'precious': 2001, 'reassure': 2112, 'anxiety': 119, 'side': 2354, 'really': 2110, 'embarrassed': 850, 'pretty': 2017, 'pathetic': 1886, 'start': 2480, 'sentimental': 2298, 'doll': 779, 'child': 439, 'begin': 243, 'collection': 491, 'vintage': 2849, 'compromise': 521, 'skeptical': 2381, 'value': 2829, 'every': 905, 'work': 2950, 'put': 2067, 'irritate': 1407, 'reject': 2140, 'without': 2940, 'anyone': 123, 'anything': 124, 'say': 2256, 'completely': 518, 'overwhelm': 1846, 'two': 2764, 'strategy': 2508, 'help': 1251, 'pour': 1988, 'heart': 1238, 'journal': 1431, 'form': 1065, 'letter': 1512, 'god': 1141, 'end': 864, 'list': 1533, 'five': 1030, 'thing': 2653, 'grateful': 1166, 'amuse': 101, 'delighted': 681, 'able': 2, 'support': 2561, 'great': 1168, 'glad': 1131, 'already': 82, 'fuck': 1093, 'though': 2658, 'dont': 781, 'usually': 2822, 'eat': 831, 'morning': 1690, 'love': 1568, 'wish': 2938, 'best': 260, 'longer': 1555, 'tolerate': 2694, 'effect': 839, 'live': 1540, 'fact': 960, 'turn': 2757, 'bitter': 280, 'angry': 106, 'person': 1908, 'always': 89, 'particularly': 1874, 'kind': 1451, 'people': 1896, 'stress': 2512, 'inhibit': 1361, 'kitchen': 1456, 'paint': 1859, 'elses': 846, 'picture': 1928, 'become': 237, 'defeat': 672, 'kinda': 1452, 'appal': 134, 'need': 1735, 'explain': 941, 'wide': 2924, 'body': 302, 'measure': 1620, 'etc': 898, 'superior': 2559, 'dead': 658, 'chicken': 438, 'grieve': 1173, 'get': 1122, 'giddy': 1124, 'elegant': 844, 'perfectly': 1901, 'fit': 1028, 'skirt': 2386, 'remember': 2161, 'distressed': 767, 'day': 655, 'heard': 1236, 'read': 2101, 'past': 1882, 'couple': 586, 'leave': 1500, 'impressed': 1335, 'company': 507, 'hill': 1261, 'frustrate': 1090, 'id': 1310, 'much': 1705, 'pace': 1852, 'entirely': 885, 'course': 588, 'factor': 961, 'never': 1750, 'imagine': 1323, 'real': 2105, 'would': 2963, 'emotionally': 856, 'connect': 539, 'enough': 879, 'totally': 2709, 'accepted': 12, 'safe': 2239, 'morally': 1689, 'acceptable': 10, 'close': 474, 'physical': 1924, 'contact': 552, 'sex': 2312, 'content': 555, 'creative': 606, 'however': 1294, 'want': 2869, 'cause': 402, 'le': 1491, 'splendid': 2464, 'self': 2288, 'step': 2490, 'away': 200, 'bit': 276, 'rude': 2227, 'ask': 166, 'gift': 1125, 'christmas': 455, 'mild': 1652, 'protect': 2048, 'small': 2397, 'season': 2274, 'word': 2949, 'plan': 1941, 'share': 2325, 'everyday': 907, 'story': 2502, 'travel': 2732, 'adventure': 46, 'inspiration': 1373, 'creation': 605, 'hope': 1279, 'inspired': 1375, 'tree': 2738, 'festive': 1006, 'book': 307, 'worn': 2954, 'brave': 327, 'perfect': 1900, 'strongly': 2521, 'passionate': 1881, 'jerk': 1423, 'poke': 1964, 'fun': 1100, 'discourage': 741, 'peter': 1914, 'pay': 1891, 'cow': 591, 'cant': 381, 'afford': 52, 'way': 2885, 'listless': 1536, 'new': 1751, 'different': 721, 'lose': 1561, 'special': 2448, 'mind': 1657, 'worry': 2956, 'felt': 1004, 'many': 1601, 'sam': 2243, 'guarantee': 1186, 'tell': 2615, 'sad': 2236, 'accept': 9, 'first': 1026, 'home': 1270, 'mine': 1659, 'boat': 301, 'trip': 2743, 'stop': 2499, 'cold': 487, 'hot': 1291, 'selfish': 2289, 'unsure': 2802, 'might': 1650, 'somewhere': 2425, 'bag': 212, 'look': 1557, 'good': 1143, 'feelin': 999, 'gorgeous': 1147, 'skin': 2383, 'sister': 2375, 'sun': 2554, 'daddy': 639, 'unkind': 2792, 'basically': 224, 'fake': 969, 'science': 2266, 'fiction': 1008, 'hate': 1224, 'living': 1542, 'dad': 638, 'roof': 2216, 'give': 1129, 'excuse': 926, 'he': 1229, 'provide': 2052, 'unwelcome': 2805, 'ill': 1319, 'keep': 1445, 'pleasantly': 1952, 'surprise': 2570, 'ease': 828, 'situation': 2378, 'anymore': 122, 'vigorous': 2846, 'sexual': 2313, 'activity': 29, 'come': 497, 'yes': 2984, 'part': 1871, 'mom': 1679, 'graceful': 1154, 'warm': 2873, 'loving': 1572, 'smile': 2400, 'heal': 1232, 'talk': 2596, 'brother': 343, 'law': 1485, 'extremely': 953, 'popular': 1971, 'one': 1817, 'ate': 179, 'could': 581, 'gentle': 1120, 'tingle': 2681, 'throughout': 2668, 'almost': 78, 'place': 1939, 'level': 1515, 'pressured': 2015, 'young': 2991, 'beautiful': 235, 'thin': 2652, 'depend': 686, 'girl': 1127, 'rejuvenate': 2142, 'butt': 363, 'several': 2310, 'week': 2896, 'torture': 2705, 'move': 1701, 'figure': 1011, 'sound': 2441, 'nearly': 1730, 'finish': 1024, 'amaze': 90, 'back': 208, 'former': 1066, 'prayer': 1999, 'others': 1833, 'consider': 545, 'may': 1615, 'deserve': 695, 'answer': 114, 'pain': 1856, 'parent': 1868, 'violent': 2851, 'emotion': 854, 'suppose': 2564, 'unpleasant': 2799, 'truth': 2750, 'havent': 1228, 'faithful': 968, 'dwell': 820, 'doubt': 787, 'uncertainty': 2774, 'faith': 967, 'buy': 367, 'clearly': 468, 'makeup': 1593, 'miserable': 1666, 'mum': 1707, 'earth': 827, 'family': 973, 'matter': 1614, 'else': 845, 'necessarily': 1731, 'necessary': 1732, 'print': 2023, 'ache': 20, 'chris': 452, 'mostly': 1693, 'unimportant': 2788, 'stuff': 2529, 'tire': 2684, 'ready': 2104, 'image': 1322, 'blame': 283, 'result': 2194, 'sit': 2376, 'manage': 1598, 'stretch': 2515, 'canvas': 382, 'achievement': 22, 'worthwhile': 2961, 'money': 1683, 'use': 2817, 'future': 1105, 'important': 1331, 'honor': 1275, 'influence': 1357, 'talented': 2595, 'fully': 1099, 'alive': 76, 'woman': 2943, 'anger': 104, 'piece': 1930, 'thought': 2659, 'miss': 1668, 'drive': 803, 'school': 2265, 'rush': 2233, 'hellip': 1249, 'furious': 1104, 'happy': 1214, 'excite': 923, 'since': 2368, 'learn': 1496, 'show': 2347, 'horse': 1288, 'trust': 2749, 'relaxed': 2150, 'quiet': 2076, 'handle': 1207, 'frequently': 1079, 'december': 665, 'do': 773, 'smug': 2402, 'realize': 2109, 'everything': 910, 'ok': 1813, 'worthless': 2960, 'struggle': 2523, 'finding': 1021, 'lay': 1486, 'bed': 239, 'dark': 648, 'terrify': 2630, 'least': 1499, 'meet': 1628, 'airport': 70, 'supportive': 2563, 'arm': 154, 'today': 2688, 'mood': 1685, 'strange': 2505, 'entire': 884, 'guess': 1187, 'pass': 1879, 'involved': 1404, 'car': 386, 'accident': 14, 'bring': 338, 'present': 2010, 'exam': 917, 'fly': 1044, 'colour': 494, 'towards': 2715, 'dog': 778, 'understand': 2777, 'decide': 667, 'throw': 2669, 'shitty': 2335, 'shit': 2334, 'paper': 1865, 'comedy': 498, 'vital': 2856, 'hear': 1235, 'owner': 1851, 'victimized': 2842, 'association': 175, 'manager': 1599, 'goodbye': 1144, 'theyre': 2648, 'cry': 621, 'heartless': 1240, 'bitch': 277, 'hey': 1257, 'excited': 924, 'spend': 2454, 'another': 113, 'country': 585, 'wont': 2947, 'opportunity': 1822, 'last': 1478, 'short': 2342, 'month': 1684, 'ton': 2697, 'catch': 398, 'honored': 1276, 'hard': 1215, 'high': 1259, 'skill': 2382, 'ashamed': 163, 'somehow': 2420, 'motivate': 1696, 'saw': 2255, 'kid': 1449, 'performance': 1903, 'whole': 2922, 'despite': 705, 'tiredness': 2686, 'overwhelming': 1848, 'calm': 374, 'soothe': 2433, 'effort': 840, 'require': 2175, 'whether': 2912, 'member': 1633, 'college': 492, 'friend': 1082, 'neighbor': 1741, 'street': 2509, 'even': 900, 'complete': 517, 'stranger': 2507, 'soon': 2429, 'seriously': 2304, 'alright': 83, 'class': 463, 'combination': 495, 'unsuccessful': 2801, 'late': 1479, 'horrible': 1285, 'rarely': 2093, 'advance': 44, 'stick': 2492, 'rule': 2229, 'online': 1818, 'wouldnt': 2964, 'prepare': 2007, 'face': 958, 'useful': 2818, 'group': 1180, 'idea': 1311, 'ugly': 2766, 'wear': 2889, 'dress': 800, 'pair': 1861, 'heel': 1246, 'house': 1293, 'boost': 309, 'esteem': 897, 'slightly': 2392, 'definitely': 675, 'bother': 314, 'homesick': 1271, 'yet': 2986, 'dance': 643, 'workout': 2952, 'fabulous': 957, 'eye': 954, 'touch': 2710, 'return': 2195, 'shall': 2321, 'vain': 2827, 'friday': 1081, 'awful': 203, 'cramp': 595, 'honour': 1277, 'call': 373, 'apprehensive': 147, 'thick': 2650, 'black': 281, 'rain': 2085, 'cloud': 480, 'storm': 2501, 'sky': 2387, 'town': 2716, 'state': 2484, 'reason': 2111, 'fearful': 992, 'shake': 2318, 'quite': 2079, 'lunch': 1579, 'awkward': 206, 'finally': 1016, 'companion': 506, 'especially': 895, 'lonely': 1553, 'disappoint': 736, 'blog': 291, 'img': 1324, 'src': 2471, 'http': 1296, 'eager': 821, 'quilt': 2077, 'horny': 1284, 'poem': 1961, 'pressure': 2014, 'uncomfortable': 2776, 'sense': 2294, 'understanding': 2778, 'land': 1472, 'raise': 2087, 'son': 2426, 'father': 985, 'shower': 2348, 'question': 2073, 'fantastic': 978, 'confident': 534, 'movement': 1702, 'energetic': 869, 'bouncy': 319, 'gym': 1196, 'outside': 1840, 'long': 1554, 'walk': 2864, 'often': 1810, 'three': 2663, 'strong': 2520, 'burst': 358, 'tear': 2608, 'devastate': 712, 'release': 2151, 'seem': 2285, 'rich': 2200, 'space': 2444, 'dump': 814, 'spice': 2457, 'coffee': 486, 'maybe': 1616, 'badly': 211, 'shes': 2331, 'habit': 1198, 'assure': 177, 'amazing': 92, 'right': 2205, 'name': 1718, 'utterly': 2824, 'perhaps': 1905, 'office': 1806, 'nice': 1755, 'hair': 1202, 'rebellious': 2114, 'celebrate': 405, 'wash': 2876, 'generous': 1118, 'sleep': 2388, 'deprive': 690, 'night': 1757, 'amp': 100, 'cat': 397, 'lucky': 1577, 'wake': 2863, 'sick': 2352, 'hunt': 1306, 'repressed': 2173, 'memory': 1634, 'therapy': 2642, 'disgust': 747, 'race': 2081, 'laugh': 1483, 'hat': 1223, 'forever': 1060, 'mellow': 1631, 'soft': 2414, 'indecisive': 1349, 'genre': 1119, 'resolve': 2182, 'artistic': 161, 'draw': 796, 'circle': 458, 'big': 268, 'line': 1529, 'mark': 1603, 'piss': 1935, 'terrified': 2629, 'bus': 360, 'mountain': 1699, 'middle': 1648, 'wonder': 2944, 'unloved': 2796, 'certainly': 412, 'whats': 2909, 'personal': 1909, 'curious': 627, 'youd': 2989, 'watch': 2880, 'sorry': 2437, 'humor': 1302, 'got': 1148, 'foot': 1056, 'door': 784, 'world': 2953, 'trail': 2722, 'fell': 1002, 'whatever': 2908, 'directly': 730, 'jealous': 1421, 'insecure': 1368, 'worthy': 2962, 'sweet': 2580, 'holiday': 1268, 'happiness': 1213, 'example': 918, 'instead': 1378, 'remain': 2159, 'control': 565, 'butter': 364, 'bread': 328, 'impossible': 1333, 'third': 2656, 'hell': 1248, 'needy': 1737, 'neglect': 1739, 'claim': 462, 'beat': 233, 'head': 1230, 'wall': 2865, 'either': 843, 'intimidated': 1397, 'concept': 524, 'lit': 1537, 'groggy': 1176, 'routine': 2224, 'view': 2844, 'isnt': 1410, 'thats': 2638, 'fine': 1022, 'hold': 1266, 'shock': 2336, 'awe': 201, 'st': 2472, 'fear': 991, 'failure': 963, 'appreciate': 143, 'arent': 151, 'anywhere': 127, 'nature': 1725, 'relationship': 2146, 'change': 417, 'distracted': 764, 'regularly': 2139, 'relax': 2149, 'music': 1711, 'invigorated': 1401, 'afterward': 56, 'distract': 763, 'tend': 2621, 'practice': 1996, 'shut': 2349, 'youtube': 2994, 'specifically': 2450, 'shy': 2350, 'opposite': 1824, 'far': 979, 'pic': 1926, 'lol': 1550, 'weird': 2901, 'slept': 2389, 'okay': 1814, 'early': 824, 'restless': 2193, 'weight': 2900, 'tiny': 2682, 'unable': 2771, 'presence': 2009, 'fan': 975, 'current': 629, 'president': 2012, 'conservative': 544, 'verse': 2836, 'weigh': 2899, 'odd': 1800, 'complacent': 514, 'vulnerable': 2861, 'thinking': 2655, 'punish': 2060, 'stupid': 2533, 'stay': 2487, 'simply': 2365, 'cut': 633, 'everyone': 908, 'comfort': 499, 'project': 2042, 'nervous': 1745, 'act': 25, 'bird': 273, 'air': 69, 'carefree': 390, 'manner': 1600, 'reply': 2169, 'receive': 2116, 'offend': 1802, 'die': 718, 'alex': 75, 'regretful': 2137, 'visit': 2854, 'educate': 837, 'mama': 1596, 'key': 1447, 'hostile': 1290, 'toward': 2714, 'bore': 311, 'sew': 2311, 'nothing': 1775, 'fabric': 956, 'original': 1832, 'lightly': 1523, 'scent': 2262, 'glamorous': 1133, 'apart': 128, 'push': 2066, 'succeed': 2540, 'successful': 2542, 'wound': 2965, 'process': 2032, 'sometimes': 2423, 'reluctant': 2157, 'traditional': 2719, 'leg': 1503, 'mile': 1653, 'unfair': 2781, 'reaction': 2100, 'shaken': 2319, 'blessed': 287, 'abuse': 6, 'anticipate': 116, 'danger': 645, 'area': 150, 'visitor': 2855, 'lap': 1474, 'water': 2882, 'wood': 2948, 'breeze': 334, 'admit': 41, 'card': 387, 'exactly': 916, 'stressed': 2513, 'moment': 1680, 'dull': 812, 'normal': 1767, 'kick': 1448, 'gear': 1114, 'irritable': 1406, 'motivation': 1697, 'innocent': 1366, 'satisfaction': 2249, 'contribute': 563, 'america': 94, 'resentful': 2178, 'vacation': 2825, 'obligation': 1790, 'emotional': 855, 'clinic': 472, 'wednesday': 2894, 'dishearten': 750, 'bitchy': 278, 'upon': 2810, 'second': 2276, 'terrible': 2626, 'decision': 668, 'certain': 411, 'assured': 178, 'egg': 841, 'equally': 892, 'delicious': 679, 'favorite': 988, 'beach': 231, 'continue': 558, 'discover': 743, 'whenever': 2910, 'pang': 1862, 'blank': 284, 'sickness': 2353, 'mindset': 1658, 'american': 95, 'city': 461, 'simple': 2364, 'purpose': 2064, 'absolutely': 5, 'comfortable': 500, 'physically': 1925, 'practically': 1995, 'sympathetic': 2584, 'hop': 1278, 'tube': 2753, 'ride': 2202, 'london': 1551, 'ignore': 1317, 'across': 24, 'offended': 1803, 'please': 1953, 'cancer': 380, 'theres': 2646, 'chance': 416, 'joy': 1433, 'dream': 798, 'true': 2747, 'cranky': 596, 'puzzle': 2068, 'particular': 1873, 'single': 2372, 'praise': 1997, 'ability': 1, 'student': 2526, 'productive': 2036, 'fill': 1013, 'loser': 1562, 'peace': 1892, 'within': 2939, 'positive': 1976, 'break': 329, 'exhaust': 929, 'guilty': 1191, 'baby': 207, 'beloved': 254, 'co': 483, 'keen': 1444, 'edge': 836, 'star': 2478, 'ahead': 65, 'front': 1088, 'free': 1077, 'advocate': 49, 'politician': 1967, 'attention': 185, 'block': 290, 'hour': 1292, 'hesitant': 1256, 'suggestion': 2550, 'outcome': 1836, 'sincere': 2369, 'terribly': 2627, 'fond': 1051, 'majority': 1591, 'gain': 1106, 'damage': 641, 'aspect': 168, 'security': 2281, 'interview': 1395, 'freak': 1076, 'build': 349, 'non': 1763, 'item': 1414, 'recipe': 2119, 'whose': 2923, 'cool': 571, 'pull': 2056, 'pick': 1927, 'plant': 1945, 'window': 2932, 'drag': 792, 'sand': 2244, 'honest': 1273, 'create': 604, 'ago': 62, 'material': 1613, 'kit': 1455, 'site': 2377, 'blood': 295, 'prove': 2051, 'lethargic': 1511, 'rubbish': 2226, 'dangerous': 646, 'compassionate': 511, 'doesnt': 777, 'capture': 385, 'beauty': 236, 'lovely': 1570, 'main': 1587, 'root': 2219, 'less': 1508, 'secure': 2280, 'financially': 1019, 'socially': 2411, 'bite': 279, 'immature': 1325, 'voice': 2857, 'sharp': 2326, 'tool': 2701, 'shed': 2327, 'nightmare': 1758, 'disturbed': 769, 'case': 393, 'customer': 632, 'battle': 230, 'exceptionally': 921, 'tomorrow': 2696, 'monday': 1682, 'forward': 1070, 'disappointment': 738, 'husband': 1308, 'crappy': 598, 'convince': 568, 'pattern': 1889, 'slutty': 2396, 'obviously': 1793, 'perverse': 1913, 'pride': 2022, 'order': 1827, 'reach': 2098, 'tempt': 2619, 'human': 1299, 'impatient': 1329, 'easily': 829, 'annoy': 111, 'outrage': 1839, 'positively': 1977, 'official': 1808, 'mainly': 1588, 'text': 2632, 'clever': 469, 'rather': 2095, 'speak': 2446, 'respected': 2186, 'relieve': 2153, 'title': 2687, 'afraid': 53, 'hence': 1254, 'unworthy': 2806, 'benefit': 256, 'personality': 1910, 'mother': 1694, 'finance': 1017, 'six': 2379, 'defend': 674, 'video': 2843, 'game': 1107, 'anime': 109, 'movie': 1703, 'master': 1610, 'enjoy': 876, 'desire': 699, 'quickly': 2075, 'cost': 577, 'boyfriend': 324, 'weve': 2907, 'brighter': 337, 'inspire': 1374, 'isolated': 1412, 'crowd': 618, 'anti': 115, 'social': 2409, 'loyal': 1574, 'style': 2534, 'waste': 2878, 'agitated': 61, 'dose': 785, 'shift': 2332, 'dissatisfied': 760, 'store': 2500, 'gay': 1113, 'judge': 1436, 'intelligent': 1383, 'insulted': 1382, 'light': 1522, 'road': 2209, 'actually': 32, 'sorrowful': 2436, 'boot': 310, 'envious': 888, 'together': 2691, 'apologize': 132, 'youre': 2992, 'suspect': 2575, 'private': 2025, 'must': 1714, 'cast': 395, 'insult': 1381, 'compliment': 520, 'plus': 1959, 'diverse': 770, 'price': 2021, 'fund': 1102, 'plot': 1957, 'relatively': 2148, 'empty': 860, 'href': 1295, 'font': 1052, 'friendly': 1083, 'hand': 1205, 'consciously': 542, 'breathe': 333, 'accomplish': 16, 'afternoon': 55, 'compare': 508, 'rotten': 2220, 'shoe': 2338, 'glamourous': 1134, 'designer': 698, 'box': 322, 'largely': 1476, 'hide': 1258, 'hug': 1297, 'dismayed': 755, 'study': 2528, 'outfit': 1837, 'wax': 2884, 'rid': 2201, 'creep': 610, 'width': 2925, 'px': 2069, 'recall': 2115, 'runner': 2231, 'woke': 2942, 'dvd': 819, 'gather': 1112, 'tip': 2683, 'limit': 1528, 'phone': 1919, 'there': 2643, 'attack': 182, 'document': 776, 'familiar': 972, 'file': 1012, 'thankful': 2635, 'blessing': 288, 'venture': 2834, 'party': 1877, 'learnt': 1498, 'instinct': 1379, 'happen': 1210, 'session': 2307, 'loneliness': 1552, 'disappointed': 737, 'lord': 1559, 'betray': 262, 'embarrass': 849, 'frantic': 1075, 'overwhelmed': 1847, 'responsibility': 2189, 'teacher': 2606, 'tranquil': 2726, 'lyric': 1581, 'steve': 2491, 'wanted': 2870, 'bear': 232, 'witness': 2941, 'incredibly': 1348, 'emo': 853, 'quit': 2078, 'believe': 249, 'cigarette': 457, 'grocery': 1175, 'risk': 2208, 'total': 2708, 'sensation': 2293, 'emerge': 852, 'insecurity': 1369, 'crave': 600, 'submissive': 2537, 'tender': 2622, 'deep': 670, 'sort': 2438, 'sensitive': 2296, 'spell': 2453, 'round': 2222, 'quarter': 2071, 'snow': 2406, 'shirt': 2333, 'taste': 2601, 'play': 1947, 'toe': 2690, 'humorous': 1303, 'busy': 362, 'energize': 870, 'potential': 1985, 'society': 2412, 'privilege': 2026, 'thrill': 2665, 'hurt': 1307, 'fat': 983, 'thousand': 2660, 'island': 1409, 'large': 1475, 'substance': 2539, 'lettuce': 1514, 'sugar': 2548, 'burn': 356, 'folk': 1048, 'handful': 1206, 'swing': 2582, 'agree': 63, 'constant': 548, 'death': 661, 'row': 2225, 'smart': 2398, 'devote': 716, 'lesson': 1509, 'longing': 1556, 'sadness': 2238, 'focus': 1045, 'naughty': 1726, 'include': 1343, 'cherish': 434, 'weekend': 2897, 'continued': 559, 'along': 80, 'probably': 2030, 'dish': 749, 'wed': 2893, 'fight': 1010, 'paris': 1869, 'grade': 1156, 'frustrated': 1091, 'scar': 2258, 'terrific': 2628, 'surgery': 2569, 'honestly': 1274, 'stun': 2531, 'attract': 187, 'bad': 210, 'thank': 2634, 'art': 158, 'loved': 1569, 'welcome': 2902, 'tight': 2676, 'knit': 1459, 'doubtful': 788, 'motor': 1698, 'exercise': 928, 'pity': 1938, 'bless': 286, 'amazed': 91, 'skip': 2385, 'lazy': 1488, 'comment': 501, 'add': 34, 'clear': 467, 'involve': 1403, 'interested': 1391, 'apply': 141, 'learning': 1497, 'importance': 1330, 'personally': 1911, 'depress': 687, 'trap': 2729, 'near': 1729, 'strengthen': 2511, 'bike': 269, 'rest': 2191, 'temple': 2618, 'hah': 1200, 'field': 1009, 'academic': 8, 'anxious': 120, 'job': 1427, 'pop': 1970, 'chair': 413, 'theyd': 2647, 'punch': 2059, 'onto': 1819, 'normally': 1768, 'size': 2380, 'perspective': 1912, 'sake': 2241, 'knot': 1461, 'stomach': 2496, 'fool': 1054, 'choice': 447, 'recognize': 2121, 'choose': 449, 'allow': 77, 'wait': 2862, 'till': 2678, 'spirit': 2459, 'guide': 1189, 'grey': 1171, 'episode': 890, 'wonderful': 2945, 'brand': 326, 'steal': 2488, 'lash': 1477, 'writing': 2970, 'enter': 881, 'contemplate': 554, 'recent': 2117, 'amongst': 97, 'belief': 248, 'disadvantage': 734, 'regard': 2134, 'chemo': 433, 'cell': 407, 'cringe': 614, 'series': 2302, 'threaten': 2661, 'throat': 2667, 'upset': 2811, 'shouldnt': 2345, 'lame': 1471, 'determine': 710, 'artist': 160, 'display': 757, 'public': 2054, 'lively': 1541, 'dazed': 657, 'twitter': 2763, 'assault': 170, 'wrap': 2967, 'isolate': 1411, 'dramatic': 795, 'test': 2631, 'yesterday': 2985, 'doctor': 775, 'needle': 1736, 'inside': 1370, 'dizzy': 772, 'meat': 1621, 'female': 1005, 'unless': 2794, 'fairly': 965, 'clean': 466, 'forgive': 1062, 'thereby': 2644, 'forget': 1061, 'perceive': 1898, 'teach': 2605, 'bury': 359, 'holy': 1269, 'career': 389, 'highly': 1260, 'respect': 2185, 'conversation': 567, 'slow': 2394, 'google': 1146, 'next': 1754, 'mistake': 1671, 'fucked': 1094, 'novel': 1779, 'position': 1975, 'uncertain': 2773, 'stock': 2495, 'market': 1604, 'oh': 1811, 'super': 2558, 'closer': 475, 'due': 811, 'date': 652, 'page': 1854, 'favourite': 989, 'uk': 2767, 'player': 1948, 'prize': 2028, 'layer': 1487, 'expectation': 934, 'gloomy': 1138, 'lifestyle': 1519, 'porn': 1973, 'industry': 1355, 'satisfied': 2250, 'tune': 2756, 'triumphant': 2744, 'author': 191, 'dumb': 813, 'soo': 2428, 'mixture': 1675, 'hungry': 1305, 'topic': 2703, 'actual': 31, 'knowledge': 1464, 'rely': 2158, 'opinion': 1821, 'open': 1820, 'everytime': 911, 'jubilant': 1435, 'proud': 2050, 'ball': 215, 'charm': 423, 'chapter': 419, 'responsible': 2190, 'action': 26, 'stem': 2489, 'importantly': 1332, 'seek': 2284, 'song': 2427, 'constantly': 549, 'sandwich': 2245, 'mini': 1660, 'currently': 630, 'tongue': 2699, 'meal': 1617, 'breakfast': 330, 'dessert': 706, 'en': 861, 'false': 971, 'link': 1530, 'rel': 2143, 'alternate': 85, 'application': 140, 'stand': 2476, 'pregnant': 2005, 'youll': 2990, 'notice': 1776, 'gracious': 1155, 'heat': 1241, 'resource': 2184, 'running': 2232, 'fitness': 1029, 'wise': 2937, 'darkness': 649, 'ought': 1835, 'sarcastic': 2247, 'age': 58, 'couldnt': 582, 'distraught': 765, 'helpless': 1253, 'tortured': 2706, 'band': 216, 'enemy': 868, 'desperate': 702, 'freedom': 1078, 'unfortunate': 2783, 'cheer': 430, 'period': 1906, 'tragic': 2721, 'drain': 793, 'chat': 425, 'sunday': 2555, 'silent': 2360, 'audience': 189, 'express': 946, 'nap': 1719, 'agitate': 60, 'grumpy': 1184, 'cross': 617, 'portray': 1974, 'exact': 915, 'intimidate': 1396, 'truly': 2748, 'condition': 529, 'worker': 2951, 'conflict': 535, 'kiss': 1454, 'surprisingly': 2572, 'obnoxious': 1791, 'weather': 2890, 'press': 2013, 'breath': 332, 'treasure': 2734, 'casual': 396, 'missed': 1669, 'lift': 1521, 'sat': 2248, 'couch': 579, 'check': 428, 'grow': 1181, 'kindness': 1453, 'conscious': 541, 'interact': 1389, 'various': 2830, 'product': 2034, 'design': 697, 'contain': 553, 'oil': 1812, 'environment': 889, 'discussion': 746, 'color': 493, 'height': 1247, 'deny': 685, 'crush': 620, 'settle': 2309, 'slip': 2393, 'shoulder': 2344, 'nowhere': 1782, 'uncle': 2775, 'radio': 2083, 'accidentally': 15, 'follower': 1050, 'christ': 453, 'modern': 1678, 'pill': 1932, 'valuable': 2828, 'training': 2724, 'grammar': 1158, 'language': 1473, 'leader': 1493, 'fulfill': 1097, 'magic': 1585, 'food': 1053, 'threatened': 2662, 'kill': 1450, 'messy': 1642, 'photo': 1920, 'loathe': 1545, 'numb': 1783, 'spiteful': 2463, 'uptight': 2813, 'pursue': 2065, 'fast': 981, 'stubborn': 2524, 'lack': 1468, 'patience': 1887, 'twist': 2762, 'explanation': 942, 'mad': 1583, 'medium': 1627, 'neglectful': 1740, 'fellow': 1003, 'blogger': 292, 'glass': 1136, 'paranoid': 1867, 'half': 1203, 'term': 2625, 'adventurous': 47, 'admire': 40, 'entertain': 882, 'shape': 2324, 'participate': 1872, 'event': 902, 'gotten': 1149, 'unhappy': 2786, 'flower': 1043, 'wonderfully': 2946, 'shell': 2330, 'pleasant': 1951, 'painful': 1858, 'mid': 1647, 'bottom': 317, 'graduate': 1157, 'attach': 181, 'sea': 2272, 'peer': 1894, 'promise': 2044, 'debt': 663, 'patient': 1888, 'daily': 640, 'breast': 331, 'milk': 1654, 'drunk': 809, 'issue': 1413, 'inability': 1339, 'peaceful': 1893, 'flawless': 1037, 'joyful': 1434, 'theory': 2640, 'crime': 613, 'feed': 996, 'melancholy': 1630, 'culture': 624, 'awesome': 202, 'pleased': 1954, 'tonight': 2700, 'lead': 1492, 'actively': 28, 'tug': 2755, 'appear': 137, 'fix': 1031, 'research': 2176, 'trial': 2739, 'success': 2541, 'garden': 1109, 'shoot': 2339, 'anyways': 126, 'urge': 2815, 'brew': 335, 'fair': 964, 'progress': 2041, 'japanese': 1419, 'record': 2123, 'heartbroken': 1239, 'horribly': 1286, 'join': 1428, 'lady': 1469, 'celebration': 406, 'team': 2607, 'four': 1073, 'summer': 2553, 'warn': 2875, 'improve': 1337, 'knew': 1458, 'wife': 2926, 'suddenly': 2545, 'smell': 2399, 'motion': 1695, 'delight': 680, 'critical': 616, 'article': 159, 'note': 1773, 'business': 361, 'birthday': 275, 'vision': 2853, 'intention': 1388, 'cute': 634, 'attend': 184, 'blogging': 293, 'tired': 2685, 'offer': 1805, 'deal': 659, 'fandom': 977, 'zero': 2996, 'med': 1622, 'trouble': 2745, 'healthy': 1234, 'optimistic': 1825, 'relieved': 2154, 'wronged': 2972, 'guy': 1195, 'treat': 2735, 'quality': 2070, 'sale': 2242, 'accord': 18, 'health': 1233, 'problem': 2031, 'traitor': 2725, 'among': 96, 'cover': 590, 'as': 162, 'hole': 1267, 'differently': 722, 'truthful': 2751, 'fault': 986, 'behavior': 245, 'exist': 932, 'reveal': 2196, 'youve': 2995, 'tough': 2711, 'endeavor': 865, 'thigh': 2651, 'frightened': 1087, 'spending': 2455, 'room': 2217, 'bath': 228, 'invest': 1399, 'predictable': 2002, 'discontent': 740, 'irate': 1405, 'moronic': 1691, 'shaky': 2320, 'hit': 1265, 'ocean': 1798, 'win': 2930, 'hero': 1255, 'war': 2871, 'th': 2633, 'prior': 2024, 'recently': 2118, 'consistently': 547, 'character': 420, 'balance': 214, 'privileged': 2027, 'transition': 2728, 'boy': 323, 'inadequate': 1340, 'function': 1101, 'previous': 2019, 'usual': 2821, 'discouraged': 742, 'guest': 1188, 'message': 1641, 'cycle': 637, 'california': 372, 'ness': 1746, 'pool': 1968, 'drink': 801, 'wine': 2933, 'permanently': 1907, 'although': 87, 'torn': 2704, 'convinced': 569, 'guilt': 1190, 'neighborhood': 1742, 'blue': 297, 'red': 2125, 'heavy': 1244, 'table': 2589, 'otherwise': 1834, 'possibly': 1981, 'pretend': 2016, 'detail': 709, 'satisfy': 2251, 'degree': 677, 'blow': 296, 'connection': 540, 'unwanted': 2804, 'shot': 2343, 'scream': 2269, 'loud': 1566, 'engage': 873, 'debate': 662, 'lousy': 1567, 'bright': 336, 'cheerful': 431, 'assume': 176, 'moral': 1688, 'belong': 252, 'extent': 949, 'shadow': 2317, 'amorous': 98, 'stage': 2474, 'experienced': 938, 'disheartened': 751, 'realise': 2106, 'pray': 1998, 'village': 2848, 'inhibited': 1362, 'benevolent': 257, 'belly': 251, 'cuddle': 623, 'interest': 1390, 'thrilled': 2666, 'suspicious': 2576, 'fail': 962, 'path': 1885, 'nine': 1759, 'dare': 647, 'annoyed': 112, 'winter': 2935, 'park': 1870, 'tense': 2623, 'reader': 2102, 'anticipation': 117, 'load': 1544, 'behind': 246, 'subject': 2536, 'shopping': 2341, 'injury': 1364, 'fire': 1025, 'moon': 1687, 'mention': 1638, 'sociable': 2408, 'force': 1058, 'christian': 454, 'excitement': 925, 'newborn': 1752, 'wee': 2895, 'version': 2837, 'refuse': 2132, 'rate': 2094, 'snobbish': 2405, 'explore': 944, 'petty': 1916, 'lake': 1470, 'coz': 592, 'combine': 496, 'semester': 2291, 'pas': 1878, 'craft': 594, 'click': 470, 'switch': 2583, 'favor': 987, 'entitle': 886, 'remorseful': 2164, 'diet': 719, 'loss': 1563, 'disappear': 735, 'network': 1747, 'affectionate': 51, 'adore': 42, 'search': 2273, 'challenge': 414, 'therefore': 2645, 'train': 2723, 'machine': 1582, 'prom': 2043, 'bookmark': 308, 'april': 149, 'url': 2816, 'www': 2973, 'mask': 1608, 'dinner': 727, 'account': 19, 'eight': 842, 'full': 1098, 'murder': 1708, 'experiment': 939, 'determined': 711, 'partner': 1876, 'chill': 442, 'impact': 1328, 'passion': 1880, 'chocolate': 446, 'spite': 2462, 'rag': 2084, 'likely': 1526, 'victim': 2840, 'spent': 2456, 'regular': 2138, 'base': 221, 'hint': 1262, 'era': 893, 'stair': 2475, 'occasionally': 1795, 'number': 1784, 'convenience': 566, 'internet': 1394, 'tv': 2758, 'concern': 525, 'pound': 1987, 'male': 1595, 'men': 1635, 'direction': 729, 'childhood': 440, 'clue': 482, 'mill': 1655, 'adult': 43, 'brain': 325, 'ecstatic': 835, 'intensity': 1387, 'news': 1753, 'girlfriend': 1128, 'avoid': 195, 'director': 731, 'genuinely': 1121, 'alarm': 71, 'caring': 391, 'compassion': 510, 'email': 848, 'deeply': 671, 'forgotten': 1064, 'produce': 2033, 'increase': 1345, 'dirty': 732, 'trash': 2730, 'nobody': 1760, 'curl': 628, 'natural': 1723, 'section': 2279, 'gon': 1142, 'na': 1715, 'rainy': 2086, 'slight': 2391, 'stare': 2479, 'computer': 522, 'screen': 2270, 'pot': 1983, 'sentence': 2297, 'joke': 1429, 'drop': 806, 'fresh': 1080, 'delicate': 678, 'dry': 810, 'describe': 693, 'ignored': 1318, 'crazy': 602, 'hopelessness': 1283, 'disturb': 768, 'chest': 435, 'rhythm': 2198, 'remind': 2162, 'depressed': 688, 'resign': 2180, 'brought': 344, 'decade': 664, 'jolly': 1430, 'sexually': 2314, 'cheat': 427, 'lie': 1517, 'frankly': 1074, 'rushed': 2234, 'surround': 2573, 'bible': 267, 'prepared': 2008, 'worried': 2955, 'heavenly': 1243, 'invigorate': 1400, 'set': 2308, 'specific': 2449, 'meditate': 1626, 'driven': 804, 'beyond': 265, 'category': 399, 'puppy': 2062, 'clothes': 478, 'beaten': 234, 'generally': 1116, 'deprived': 691, 'jump': 1440, 'shop': 2340, 'bathroom': 229, 'pink': 1934, 'afterwards': 57, 'ring': 2206, 'tried': 2741, 'listen': 1534, 'log': 1548, 'yeah': 2980, 'award': 197, 'sudden': 2544, 'extra': 950, 'attempt': 183, 'suck': 2543, 'pie': 1929, 'crap': 597, 'zoom': 2999, 'difficulty': 724, 'loose': 1558, 'anyway': 125, 'random': 2089, 'friends': 1084, 'scott': 2268, 'reading': 2103, 'neurotic': 1748, 'twenty': 2759, 'difficult': 723, 'remark': 2160, 'plain': 1940, 'top': 2702, 'caught': 401, 'occupy': 1796, 'ex': 914, 'stone': 2497, 'journey': 1432, 'thus': 2671, 'junk': 1441, 'foggy': 1047, 'background': 209, 'secretly': 2278, 'common': 503, 'ground': 1179, 'dislike': 754, 'major': 1590, 'screw': 2271, 'aware': 198, 'complain': 515, 'achieve': 21, 'goal': 1140, 'amazingly': 93, 'homework': 1272, 'classroom': 465, 'thanks': 2636, 'idiotic': 1316, 'hadnt': 1199, 'yell': 2983, 'frustration': 1092, 'million': 1656, 'send': 2292, 'solve': 2417, 'utter': 2823, 'gratitude': 1167, 'energized': 871, 'notion': 1778, 'survive': 2574, 'pm': 1960, 'button': 366, 'feedback': 997, 'hardcore': 1216, 'straight': 2503, 'aside': 165, 'sing': 2370, 'exchange': 922, 'schedule': 2263, 'finger': 1023, 'beneath': 255, 'distance': 762, 'sore': 2434, 'whisper': 2918, 'closet': 476, 'affect': 50, 'trauma': 2731, 'negative': 1738, 'trick': 2740, 'advantage': 45, 'yay': 2979, 'sink': 2373, 'unnecessary': 2798, 'depression': 689, 'worth': 2959, 'duty': 818, 'disregard': 758, 'sell': 2290, 'scared': 2259, 'strength': 2510, 'green': 1170, 'wallet': 2866, 'encourage': 863, 'approach': 148, 'core': 575, 'silly': 2362, 'actor': 30, 'marathon': 1602, 'strangely': 2506, 'reality': 2107, 'sadden': 2237, 'rare': 2092, 'pre': 2000, 'teen': 2611, 'active': 27, 'appreciative': 146, 'partly': 1875, 'double': 786, 'brown': 345, 'curtain': 631, 'sunny': 2556, 'fearless': 993, 'seemingly': 2286, 'boundary': 320, 'paranoia': 1866, 'belonging': 253, 'insignificant': 1371, 'gap': 1108, 'tad': 2591, 'purchase': 2063, 'develop': 714, 'unknown': 2793, 'spot': 2466, 'mentally': 1637, 'expensive': 936, 'assistant': 174, 'phrase': 1923, 'awfully': 204, 'army': 155, 'glimpse': 1137, 'virtuous': 2852, 'spin': 2458, 'scale': 2257, 'education': 838, 'system': 2587, 'lil': 1527, 'difference': 720, 'final': 1015, 'ultimate': 2768, 'worship': 2958, 'met': 1643, 'lock': 1547, 'poetry': 1962, 'poor': 1969, 'intend': 1384, 'bat': 227, 'description': 694, 'overwhelmingly': 1849, 'television': 2614, 'drama': 794, 'info': 1358, 'vent': 2833, 'vicious': 2839, 'nasty': 1720, 'romance': 2214, 'watching': 2881, 'regain': 2133, 'exhausted': 930, 'foolish': 1055, 'reduce': 2126, 'jealousy': 1422, 'religious': 2156, 'english': 875, 'lend': 1505, 'appearance': 138, 'pump': 2058, 'driver': 805, 'power': 1990, 'library': 1516, 'listening': 1535, 'album': 73, 'roommate': 2218, 'mike': 1651, 'distress': 766, 'stumble': 2530, 'quote': 2080, 'meant': 1619, 'barely': 220, 'pit': 1937, 'sexy': 2315, 'weak': 2886, 'wan': 2867, 'desk': 700, 'hateful': 1226, 'taught': 2602, 'program': 2040, 'count': 583, 'confidence': 533, 'essence': 896, 'soul': 2440, 'hopefully': 1281, 'escape': 894, 'roll': 2213, 'pause': 1890, 'logic': 1549, 'thanksgiving': 2637, 'cop': 572, 'upload': 2809, 'copy': 574, 'handsome': 1208, 'hang': 1209, 'angel': 103, 'tour': 2712, 'doom': 782, 'outsider': 1841, 'surprised': 2571, 'glance': 1135, 'contraction': 561, 'explode': 943, 'yearn': 2982, 'acceptance': 11, 'appreciated': 144, 'charge': 421, 'address': 37, 'binge': 272, 'instantly': 1377, 'believer': 250, 'chase': 424, 'swim': 2581, 'condemn': 528, 'save': 2254, 'treated': 2736, 'violence': 2850, 'conclusion': 527, 'yarn': 2978, 'aunt': 190, 'independent': 1351, 'la': 1465, 'destiny': 707, 'bos': 313, 'gun': 1193, 'morose': 1692, 'intensely': 1386, 'nowadays': 1781, 'sock': 2413, 'useless': 2819, 'film': 1014, 'ear': 822, 'sensible': 2295, 'option': 1826, 'respond': 2187, 'worse': 2957, 'soup': 2442, 'smoke': 2401, 'invite': 1402, 'tackle': 2590, 'lbs': 1490, 'average': 194, 'butterfly': 365, 'government': 1150, 'intense': 1385, 'somewhat': 2424, 'bothered': 315, 'universe': 2790, 'advice': 48, 'suit': 2552, 'forum': 1069, 'previously': 2020, 'fish': 1027, 'gown': 1151, 'fashion': 980, 'fucking': 1095, 'anybody': 121, 'task': 2600, 'possession': 1978, 'disillusion': 752, 'boring': 312, 'comparison': 509, 'immediately': 1326, 'threw': 2664, 'slowly': 2395, 'canada': 379, 'knowing': 1463, 'painting': 1860, 'enrage': 880, 'trigger': 2742, 'eating': 833, 'literally': 1538, 'mass': 1609, 'hundred': 1304, 'professor': 2038, 'awhile': 205, 'teeth': 2613, 'earn': 825, 'brings': 339, 'flow': 1042, 'draft': 791, 'secret': 2277, 'headache': 1231, 'excellent': 919, 'service': 2306, 'bashful': 222, 'ruin': 2228, 'properly': 2046, 'plenty': 1956, 'repeat': 2166, 'grin': 1174, 'role': 2212, 'grandmother': 1161, 'defective': 673, 'shocked': 2337, 'idiot': 1315, 'sigh': 2355, 'anguish': 107, 'verge': 2835, 'cheek': 429, 'nd': 1728, 'ten': 2620, 'basis': 225, 'definition': 676, 'aim': 67, 'spiritually': 2461, 'temper': 2616, 'legs': 1504, 'wave': 2883, 'crash': 599, 'downright': 789, 'daughter': 653, 'darn': 651, 'tension': 2624, 'friendship': 1085, 'serve': 2305, 'consume': 550, 'grandfather': 1160, 'demand': 683, 'dun': 815, 'hardship': 1219, 'aid': 66, 'naturally': 1724, 'drinking': 802, 'relate': 2144, 'soak': 2407, 'warmth': 2874, 'ridiculously': 2204, 'available': 193, 'confused': 537, 'irritated': 1408, 'pen': 1895, 'vaguely': 2826, 'married': 1606, 'club': 481, 'nauseous': 1727, 'laundry': 1484, 'weakness': 2887, 'remove': 2165, 'alot': 81, 'white': 2919, 'told': 2693, 'frighten': 1086, 'powerless': 1992, 'resentment': 2179, 'tuesday': 2754, 'contribution': 564, 'whine': 2915, 'ungrateful': 2785, 'statement': 2485, 'everyones': 909, 'harm': 1220, 'tiger': 2675, 'wet': 2906, 'capable': 383, 'conference': 531, 'cash': 394, 'gas': 1110, 'pregnancy': 2004, 'chose': 450, 'feels': 1001, 'petrified': 1915, 'quick': 2074, 'follow': 1049, 'impression': 1336, 'sequel': 2300, 'deem': 669, 'instance': 1376, 'un': 2770, 'increasingly': 1346, 'occur': 1797, 'cuz': 635, 'dr': 790, 'sight': 2356, 'blur': 298, 'spray': 2467, 'classic': 464, 'symptom': 2586, 'thoroughly': 2657, 'climb': 471, 'numerous': 1785, 'broken': 342, 'meeting': 1629, 'courage': 587, 'unmotivated': 2797, 'cup': 625, 'later': 1481, 'saturday': 2252, 'impress': 1334, 'illness': 1320, 'upside': 2812, 'disorder': 756, 'insist': 1372, 'beside': 258, 'yoga': 2987, 'bone': 304, 'relative': 2147, 'communicate': 504, 'update': 2808, 'hearing': 1237, 'unique': 2789, 'mouth': 1700, 'left': 1502, 'silence': 2359, 'grown': 1182, 'found': 1071, 'luck': 1575, 'fate': 984, 'bastard': 226, 'object': 1789, 'sip': 2374, 'aggravate': 59, 'sunshine': 2557, 'multiple': 1706, 'flight': 1038, 'si': 2351, 'enjoyable': 877, 'interesting': 1392, 'incredible': 1347, 'despair': 701, 'development': 715, 'arrive': 157, 'consequence': 543, 'scene': 2261, 'depth': 692, 'unexpected': 2780, 'insane': 1367, 'chosen': 451, 'incident': 1342, 'julie': 1439, 'treatment': 2737, 'community': 505, 'hardly': 1218, 'compete': 512, 'justify': 1443, 'improvement': 1338, 'flat': 1034, 'technique': 2610, 'slide': 2390, 'regret': 2136, 'introduce': 1398, 'heaven': 1242, 'jesus': 1424, 'powerful': 1991, 'concerned': 526, 'embrace': 851, 'dread': 797, 'ridiculous': 2203, 'execute': 927, 'neck': 1734, 'troubled': 2746, 'asian': 164, 'cheap': 426, 'buying': 368, 'foreign': 1059, 'tourist': 2713, 'beg': 242, 'ur': 2814, 'replace': 2168, 'sheer': 2328, 'dancer': 644, 'weepy': 2898, 'haha': 1201, 'radiant': 2082, 'ad': 33, 'pro': 2029, 'mental': 1636, 'economy': 834, 'stressful': 2514, 'bar': 218, 'foundation': 1072, 'ya': 2976, 'notebook': 1774, 'range': 2090, 'none': 1764, 'assignment': 173, 'unfortunately': 2784, 'temperature': 2617, 'church': 456, 'naked': 1717, 'surface': 2568, 'raw': 2096, 'ultimately': 2769, 'apparently': 136, 'magical': 1586, 'happens': 1211, 'sham': 2322, 'moody': 1686, 'inform': 1359, 'bank': 217, 'childish': 441, 'vomit': 2859, 'earlier': 823, 'volunteer': 2858, 'organization': 1830, 'pack': 1853, 'assaulted': 171, 'skinny': 2384, 'catholic': 400, 'alcohol': 74, 'apartment': 129, 'coat': 484, 'rock': 2211, 'lover': 1571, 'lip': 1531, 'professional': 2037, 'stunned': 2532, 'boob': 306, 'spread': 2468, 'julia': 1438, 'complaint': 516, 'possibility': 1979, 'goodness': 1145, 'santa': 2246, 'swear': 2578, 'university': 2791, 'sport': 2465, 'unhealthy': 2787, 'represent': 2171, 'behave': 244, 'chip': 445, 'announce': 110, 'understood': 2779, 'similar': 2363, 'contrast': 562, 'strike': 2516, 'medication': 1624, 'pile': 1931, 'bedroom': 240, 'lost': 1564, 'overly': 1845, 'potentially': 1986, 'indulge': 1354, 'cave': 403, 'discuss': 745, 'standard': 2477, 'caffeine': 370, 'fab': 955, 'direct': 728, 'instruction': 1380, 'lee': 1501, 'playing': 1950, 'collar': 488, 'bounce': 318, 'sooner': 2430, 'evening': 901, 'native': 1722, 'abandon': 0, 'apologise': 131, 'history': 1264, 'identify': 1313, 'doomed': 783, 'october': 1799, 'zone': 2998, 'willing': 2928, 'deliver': 682, 'attribute': 188, 'score': 2267, 'review': 2197, 'grand': 1159, 'pained': 1857, 'devastated': 713, 'jaw': 1420, 'pub': 2053, 'darling': 650, 'nutrition': 1788, 'track': 2718, 'eventually': 903, 'luckily': 1576, 'facebook': 959, 'basic': 223, 'merely': 1639, 'argument': 153, 'ice': 1309, 'financial': 1018, 'speed': 2452, 'clock': 473, 'stash': 2483, 'snap': 2404, 'somebody': 2418, 'disrespect': 759, 'rise': 2207, 'expression': 947, 'reminder': 2163, 'inch': 1341, 'separate': 2299, 'colleague': 489, 'talent': 2594, 'indeed': 1350, 'adjust': 38, 'center': 408, 'local': 1546, 'hall': 1204, 'planning': 1944, 'recognise': 2120, 'confusion': 538, 'nursing': 1787, 'feature': 994, 'serious': 2303, 'bah': 213, 'serenity': 2301, 'mixed': 1674, 'upcoming': 2807, 'chinese': 444, 'china': 443, 'despise': 704, 'overall': 1842, 'squeeze': 2470, 'offensive': 1804, 'daze': 656, 'empower': 859, 'punished': 2061, 'nail': 1716, 'resent': 2177, 'alternative': 86, 'antsy': 118, 'labor': 1467, 'wisdom': 2936, 'nostalgia': 1771, 'north': 1769, 'ray': 2097, 'website': 2892, 'silently': 2361, 'disaster': 739, 'york': 2988, 'political': 1966, 'unprotected': 2800, 'lung': 1580, 'string': 2517, 'cafe': 369, 'besides': 259, 'british': 340, 'timid': 2680, 'endure': 867, 'transfer': 2727, 'nonsense': 1765, 'gladly': 1132, 'lean': 1495, 'vote': 2860, 'proper': 2045, 'attitude': 186, 'snack': 2403, 'betrayed': 263, 'soooo': 2432, 'income': 1344, 'justice': 1442, 'west': 2905, 'information': 1360, 'bunch': 352, 'safety': 2240, 'individual': 1353, 'whim': 2914, 'except': 920, 'float': 1040, 'whilst': 2913, 'speaking': 2447, 'outgo': 1838, 'cd': 404, 'relation': 2145, 'ward': 2872, 'reflect': 2129, 'police': 1965, 'ppl': 1993, 'disillusioned': 753, 'yall': 2977, 'inner': 1365, 'someday': 2419, 'plane': 1942, 'wasted': 2879, 'evaluate': 899, 'solution': 2416, 'roast': 2210, 'tea': 2604, 'twice': 2760, 'destroy': 708, 'assert': 172, 'unfold': 2782, 'beer': 241, 'wing': 2934, 'adjustment': 39, 'structure': 2522, 'swallow': 2577, 'mess': 1640, 'carry': 392, 'photography': 1922, 'international': 1393, 'theme': 2639, 'target': 2599, 'rant': 2091, 'organise': 1829, 'resist': 2181, 'burdened': 354, 'everywhere': 912, 'nurse': 1786, 'commit': 502, 'ass': 169, 'heck': 1245, 'forth': 1067, 'maintain': 1589, 'mix': 1673, 'toss': 2707, 'solid': 2415, 'equal': 891, 'production': 2035, 'blanket': 285, 'perception': 1899, 'reference': 2128, 'metal': 1644, 'shout': 2346, 'gut': 1194, 'wimpy': 2929, 'credit': 609, 'pulse': 2057, 'lips': 1532, 'sorrow': 2435, 'unusual': 2803, 'studio': 2527, 'magazine': 1584, 'practical': 1994, 'nicely': 1756, 'burnt': 357, 'crisis': 615, 'letting': 1513, 'oppose': 1823, 'xd': 2974, 'officer': 1807, 'vile': 2847, 'tightly': 2677, 'awareness': 199, 'centre': 409, 'potato': 1984, 'react': 2099, 'supporter': 2562, 'hello': 1250, 'shame': 2323, 'hasnt': 1222, 'dig': 725, 'tone': 2698, 'bond': 303, 'religion': 2155, 'crawl': 601, 'staff': 2473, 'context': 557, 'appointment': 142, 'bum': 351, 'birth': 274, 'flash': 1032, 'officially': 1809, 'drug': 808, 'deserves': 696, 'prevent': 2018, 'flaw': 1036, 'jaded': 1417, 'response': 2188, 'grasp': 1164, 'charity': 422, 'exhibition': 931, 'medical': 1623, 'entry': 887, 'david': 654, 'refer': 2127, 'fortunate': 1068, 'chick': 437, 'jewelry': 1425, 'discovery': 744, 'accomplishment': 17, 'tie': 2674, 'ludicrous': 1578, 'population': 1972, 'initial': 1363, 'camp': 377, 'entertainment': 883, 'perfume': 1904, 'giant': 1123, 'em': 847, 'user': 2820, 'medicine': 1625, 'camera': 376, 'decent': 666, 'lj': 1543, 'dunno': 816, 'desperately': 703, 'prefer': 2003, 'simultaneously': 2366, 'stood': 2498, 'addition': 36, 'better': 264, 'stuck': 2525, 'dignify': 726, 'talked': 2597, 'blush': 299, 'forgot': 1063, 'cough': 580, 'regardless': 2135, 'leaf': 1494, 'rough': 2221, 'confess': 532, 'status': 2486, 'humble': 1300, 'collect': 490, 'cope': 573, 'capacity': 384, 'mirror': 1665, 'being': 247, 'disability': 733, 'neither': 1743, 'doc': 774, 'liked': 1525, 'obvious': 1792, 'empathy': 858, 'endless': 866, 'fairy': 966, 'misunderstood': 1672, 'amused': 102, 'wild': 2927, 'knee': 1457, 'ordinary': 1828, 'gate': 1111, 'suppress': 2565, 'victimize': 2841, 'wander': 2868, 'cousin': 589, 'brush': 346, 'expert': 940, 'powder': 1989, 'crack': 593, 'singapore': 2371, 'restaurant': 2192, 'extend': 948, 'everybody': 906, 'aint': 68, 'sin': 2367, 'strain': 2504, 'resort': 2183, 'england': 874, 'refresh': 2131, 'gt': 1185, 'whiney': 2916, 'tickle': 2673, 'suicide': 2551, 'century': 410, 'neutral': 1749, 'choir': 448, 'planet': 1943, 'relief': 2152, 'melt': 1632, 'starve': 2482, 'consumer': 551, 'muscle': 1709, 'floor': 1041, 'playful': 1949, 'kept': 1446, 'expose': 945, 'recover': 2124, 'cake': 371, 'accessory': 13, 'billy': 271, 'viewer': 2845, 'whip': 2917, 'thrown': 2670, 'guitar': 1192, 'clothing': 479, 'realization': 2108, 'grant': 1163, 'fee': 995, 'seat': 2275, 'curiosity': 626, 'cream': 603, 'becomes': 238, 'phase': 1917, 'circumstance': 459, 'ticket': 2672, 'rice': 2199, 'contest': 556, 'oddly': 1801, 'hatred': 1227, 'juice': 1437, 'muse': 1710, 'protest': 2049, 'bonus': 305, 'reflection': 2130, 'mate': 1612, 'startle': 2481, 'fever': 1007, 'philosophy': 1918, 'cook': 570, 'marry': 1607, 'nation': 1721, 'grass': 1165, 'rejection': 2141, 'pasta': 1883, 'fruit': 1089, 'scary': 2260, 'gross': 1177, 'wind': 2931, 'fulfil': 1096, 'making': 1594, 'dollar': 780, 'toy': 2717, 'dear': 660, 'hospital': 1289, 'who': 2920, 'blind': 289, 'burger': 355, 'extreme': 952, 'pagetitle': 1855, 'overcome': 1843, 'creativity': 607, 'building': 350, 'panic': 1863, 'flavor': 1035, 'speech': 2451, 'competition': 513, 'savage': 2253, 'sweat': 2579, 'noticed': 1777, 'lb': 1489, 'considerate': 546, 'animal': 108, 'extraordinarily': 951, 'abused': 7, 'length': 1506, 'ran': 2088, 'january': 1418, 'acknowledge': 23, 'addict': 35, 'concentrate': 523, 'crunch': 619, 'apple': 139, 'pissed': 1936, 'tease': 2609, 'misery': 1667, 'enjoyed': 878, 'giggly': 1126, 'ministry': 1661, 'famous': 974, 'apology': 133, 'musical': 1712, 'seed': 2283, 'conduct': 530, 'mission': 1670, 'suggest': 2549, 'plug': 1958, 'unlike': 2795, 'latter': 1482, 'presentation': 2011, 'supply': 2560, 'select': 2287, 'quest': 2072, 'norm': 1766, 'chaos': 418, 'mommy': 1681, 'stroke': 2519, 'harder': 1217, 'football': 1057, 'musician': 1713, 'youth': 2993, 'code': 485, 'subconscious': 2535, 'miracle': 1664, 'altogether': 88, 'campaign': 378, 'bowl': 321, 'occasion': 1794, 'michael': 1646, 'hated': 1225, 'vibe': 2838, 'scheme': 2264, 'flip': 1039, 'argue': 152, 'source': 2443, 'tomato': 2695, 'suffering': 2547, 'blah': 282, 'pant': 1864, 'web': 2891, 'african': 54, 'citizen': 460, 'model': 1677, 'grief': 1172, 'dreamy': 799, 'cyber': 636, 'shade': 2316, 'board': 300, 'demon': 684, 'overload': 1844, 'marriage': 1605, 'helpful': 1252, 'report': 2170, 'evil': 913, 'tale': 2593, 'bet': 261, 'treadmill': 2733, 'appreciation': 145, 'expense': 935, 'theyve': 2649, 'jim': 1426, 'authority': 192, 'dust': 817, 'ol': 1815, 'span': 2445, 'grandparent': 1162, 'nofollow': 1762, 'route': 2223, 'infection': 1356, 'spring': 2469, 'november': 1780, 'absence': 3, 'pin': 1933, 'creature': 608, 'significant': 2358, 'xmas': 2975, 'budget': 348, 'bill': 270, 'closure': 477, 'traffic': 2720, 'match': 1611, 'vegan': 2831, 'mr': 1704, 'ideal': 1312, 'therapist': 2641, 'necessity': 1733, 'ta': 2588, 'submit': 2538, 'apathetic': 130, 'sting': 2494, 'lens': 1507, 'absolute': 4, 'immensely': 1327, 'cried': 612, 'twin': 2761, 'broke': 341, 'mode': 1676, 'weapon': 2888, 'calorie': 375, 'uncaring': 2772, 'minor': 1662, 'sacrifice': 2235, 'nose': 1770, 'bi': 266, 'per': 1897, 'sooo': 2431, 'happily': 1212, 'harry': 1221, 'complex': 519, 'nerve': 1744, 'generation': 1117, 'bottle': 316, 'eaten': 832, 'prospect': 2047, 'ears': 826, 'flashback': 1033, 'toilet': 2692, 'costume': 578, 'disgusted': 748, 'wow': 2966, 'horror': 1287, 'fancy': 976, 'appalled': 135, 'todd': 2689, 'strip': 2518, 'pleasure': 1955, 'atmosphere': 180, 'drown': 807, 'identity': 1314, 'reassured': 2113, 'repress': 2172, 'taylor': 2603, 'empathize': 857, 'growth': 1183, 'fog': 1046, 'preparation': 2006, 'pat': 1884, 'countless': 584, 'bare': 219, 'plate': 1946, 'werent': 2904, 'fb': 990, 'vein': 2832, 'lifetime': 1520, 'socialize': 2410, 'method': 1645, 'tap': 2598, 'ah': 64, 'bubble': 347, 'chamber': 415, 'nod': 1761, 'own': 1850, 'giveaway': 1130, 'hip': 1263, 'angered': 105, 'ha': 1197, 'label': 1466, 'surely': 2567, 'chicago': 436, 'photograph': 1921, 'repeatedly': 2167, 'whereas': 2911, 'knock': 1460, 'sheet': 2329, 'zombie': 2997, 'blonde': 294, 'request': 2174, 'grace': 1153, 'midst': 1649, 'lore': 1560, 'organize': 1831, 'cheese': 432, 'alarmed': 72, 'whoever': 2921, 'cube': 622, 'india': 1352, 'cricket': 611, 'sorta': 2439}\n"
          ]
        }
      ]
    },
    {
      "cell_type": "code",
      "source": [
        "train_accuracies = []\n",
        "test_accuracies = []\n",
        "val_accuracies = []\n",
        "\n",
        "for i in np.arange(0.01, 0.5,0.01):\n",
        "    svc.set_params(C=i)\n",
        "    pipeline.fit(x_train, y_train)\n",
        "\n",
        "    # Accuracy for training set\n",
        "    train_pred = pipeline.predict(x_train)\n",
        "    train_accuracy = accuracy_score(y_train, train_pred)\n",
        "    train_accuracies.append(train_accuracy)\n",
        "\n",
        "\n",
        "    # Accuracy for test set\n",
        "    test_pred = pipeline.predict(x_test)\n",
        "    test_accuracy = accuracy_score(y_test, test_pred)\n",
        "    test_accuracies.append(test_accuracy)\n",
        "\n",
        "\n",
        "    # Accuracy for validation set\n",
        "    val_pred = pipeline.predict(x_val)\n",
        "    val_accuracy = accuracy_score(y_val, val_pred)\n",
        "    val_accuracies.append(val_accuracy)\n",
        "\n",
        "\n",
        "plt.figure(figsize=(10, 6))\n",
        "plt.plot(np.arange(0.01,0.5,0.01), train_accuracies, label='Training Accuracy')\n",
        "plt.plot(np.arange(0.01,0.5,0.01), test_accuracies, label='Test Accuracy')\n",
        "plt.plot(np.arange(0.01,0.5,0.01), val_accuracies, label='Validation Accuracy')\n",
        "plt.xlabel('Number of Estimators')\n",
        "plt.ylabel('Accuracy')\n",
        "plt.title('Accuracy vs Number of Estimators for Random Forest')\n",
        "plt.legend()\n",
        "plt.grid(True)\n",
        "plt.show()\n",
        "\n",
        "print(f\"Train Accuracy: {np.mean(train_accuracies) * 100:.2f}%\")\n",
        "print(f\"Test Accuracy: {np.mean(test_accuracies) * 100:.2f}%\")\n",
        "print(f\"Validation Accuracy: {np.mean(val_accuracies) * 100:.2f}%\")"
      ],
      "metadata": {
        "colab": {
          "base_uri": "https://localhost:8080/",
          "height": 616
        },
        "id": "f6FqHD8tPb1-",
        "outputId": "2681c12a-1e75-41ca-9e48-d96f2ce6c1b1"
      },
      "execution_count": null,
      "outputs": [
        {
          "output_type": "display_data",
          "data": {
            "text/plain": [
              "<Figure size 1000x600 with 1 Axes>"
            ],
            "image/png": "[encoded data removed]"
          },
          "metadata": {}
        },
        {
          "output_type": "stream",
          "name": "stdout",
          "text": [
            "Train Accuracy: 91.59%\n",
            "Test Accuracy: 85.15%\n",
            "Validation Accuracy: 85.47%\n"
          ]
        }
      ]
    },
    {
      "cell_type": "code",
      "source": [
        "import pickle\n",
        "\n",
        "file_path='/content/drive/MyDrive/IPD/EmotionNLP_SVC.pkl'\n",
        "pickle.dump(svc, open(file_path, 'wb'.format(version=sklearn.__version__)))\n"
      ],
      "metadata": {
        "id": "bW82OCeLCbZG"
      },
      "execution_count": null,
      "outputs": []
    },
    {
      "cell_type": "code",
      "source": [
        "\n",
        "file_path = '/content/drive/MyDrive/IPD/EmotionNLP_SVC.pkl'\n",
        "\n",
        "with open(file_path, 'rb') as file:\n",
        "    loaded_pipeline = pickle.load(file)\n"
      ],
      "metadata": {
        "id": "289Yn2bTFT2a"
      },
      "execution_count": null,
      "outputs": []
    },
    {
      "cell_type": "markdown",
      "source": [
        "# Deep Neural network"
      ],
      "metadata": {
        "id": "34QXQSLcBuRl"
      }
    },
    {
      "cell_type": "code",
      "source": [
        "import tensorflow as tf\n",
        "from tensorflow import keras\n",
        "from tensorflow.keras.preprocessing.text import Tokenizer\n",
        "from tensorflow.keras.preprocessing.sequence import pad_sequences\n",
        "\n",
        "tokenizer = Tokenizer(num_words=10000, oov_token=\"<OOV>\")\n",
        "\n",
        "tokenizer.fit_on_texts(x_train)\n",
        "\n",
        "x_train_seq = tokenizer.texts_to_sequences(x_train)\n",
        "x_val_seq = tokenizer.texts_to_sequences(x_val)\n",
        "x_test_seq = tokenizer.texts_to_sequences(x_test)\n",
        "\n",
        "x_train_pad = pad_sequences(x_train_seq, maxlen=50, padding='post')\n",
        "x_val_pad = pad_sequences(x_val_seq, maxlen=50, padding='post')\n",
        "x_test_pad = pad_sequences(x_test_seq, maxlen=50, padding='post')\n",
        "print(f\"x_test_pad shape: {x_test_pad.shape}\")"
      ],
      "metadata": {
        "id": "O1gkGQQMP3hF",
        "colab": {
          "base_uri": "https://localhost:8080/"
        },
        "outputId": "67dc1220-72c1-4f4d-dd4b-fd454de6e7d7"
      },
      "execution_count": null,
      "outputs": [
        {
          "output_type": "stream",
          "name": "stdout",
          "text": [
            "x_test_pad shape: (2000, 50)\n"
          ]
        }
      ]
    },
    {
      "cell_type": "code",
      "source": [
        "tokenizer_json = tokenizer.to_json()\n",
        "file_path = '/content/drive/MyDrive/IPD/tokenizer.json'\n",
        "\n",
        "with open(file_path, 'w') as file:\n",
        "    file.write(tokenizer_json)"
      ],
      "metadata": {
        "id": "VLI8BN_zTN00"
      },
      "execution_count": null,
      "outputs": []
    },
    {
      "cell_type": "code",
      "source": [
        "from tensorflow.keras.models import Sequential\n",
        "from tensorflow.keras.layers import Embedding, Dense, Flatten, Dropout,BatchNormalization,GlobalAveragePooling3D\n",
        "from tensorflow.keras import regularizers\n",
        "from tensorflow.keras.callbacks import EarlyStopping\n",
        "\n",
        "model = Sequential([\n",
        "    Embedding(input_dim=10000, output_dim=64, input_length=50),\n",
        "    Flatten(),\n",
        "\n",
        "    Dense(64, activation='relu', kernel_regularizer=regularizers.l2(0.01)),\n",
        "    BatchNormalization(),\n",
        "    Dropout(0.5),\n",
        "\n",
        "    Dense(128, activation='relu', kernel_regularizer=regularizers.l2(0.01)),\n",
        "    BatchNormalization(),\n",
        "    Dropout(0.5),\n",
        "\n",
        "    Dense(64, activation='relu', kernel_regularizer=regularizers.l2(0.01)),\n",
        "    BatchNormalization(),\n",
        "    Dropout(0.5),\n",
        "\n",
        "    Dense(len(le.classes_), activation='softmax')  # len(le.classes_) returns the number of unique classes\n",
        "])\n",
        "\n",
        "model.compile(\n",
        "    loss=keras.losses.SparseCategoricalCrossentropy(from_logits=True),\n",
        "    optimizer=keras.optimizers.Adam(learning_rate=0.0001),\n",
        "    metrics=['accuracy']\n",
        ")\n",
        "\n",
        "model.summary()"
      ],
      "metadata": {
        "id": "wHrWnZObiwPx",
        "colab": {
          "base_uri": "https://localhost:8080/",
          "height": 561
        },
        "outputId": "33aeb1a7-8b42-4ba5-fad9-dc6ce3b38484"
      },
      "execution_count": null,
      "outputs": [
        {
          "output_type": "display_data",
          "data": {
            "text/plain": [
              "\u001b[1mModel: \"sequential_4\"\u001b[0m\n"
            ],
            "text/html": [
              "<pre style=\"white-space:pre;overflow-x:auto;line-height:normal;font-family:Menlo,'DejaVu Sans Mono',consolas,'Courier New',monospace\"><span style=\"font-weight: bold\">Model: \"sequential_4\"</span>\n",
              "</pre>\n"
            ]
          },
          "metadata": {}
        },
        {
          "output_type": "display_data",
          "data": {
            "text/plain": [
              "┏━━━━━━━━━━━━━━━━━━━━━━━━━━━━━━━━━━━━━━┳━━━━━━━━━━━━━━━━━━━━━━━━━━━━━┳━━━━━━━━━━━━━━━━━┓\n",
              "┃\u001b[1m \u001b[0m\u001b[1mLayer (type)                        \u001b[0m\u001b[1m \u001b[0m┃\u001b[1m \u001b[0m\u001b[1mOutput Shape               \u001b[0m\u001b[1m \u001b[0m┃\u001b[1m \u001b[0m\u001b[1m        Param #\u001b[0m\u001b[1m \u001b[0m┃\n",
              "┡━━━━━━━━━━━━━━━━━━━━━━━━━━━━━━━━━━━━━━╇━━━━━━━━━━━━━━━━━━━━━━━━━━━━━╇━━━━━━━━━━━━━━━━━┩\n",
              "│ embedding_5 (\u001b[38;5;33mEmbedding\u001b[0m)              │ ?                           │     \u001b[38;5;34m0\u001b[0m (unbuilt) │\n",
              "├──────────────────────────────────────┼─────────────────────────────┼─────────────────┤\n",
              "│ flatten_3 (\u001b[38;5;33mFlatten\u001b[0m)                  │ ?                           │     \u001b[38;5;34m0\u001b[0m (unbuilt) │\n",
              "├──────────────────────────────────────┼─────────────────────────────┼─────────────────┤\n",
              "│ dense_14 (\u001b[38;5;33mDense\u001b[0m)                     │ ?                           │     \u001b[38;5;34m0\u001b[0m (unbuilt) │\n",
              "├──────────────────────────────────────┼─────────────────────────────┼─────────────────┤\n",
              "│ batch_normalization_10               │ ?                           │     \u001b[38;5;34m0\u001b[0m (unbuilt) │\n",
              "│ (\u001b[38;5;33mBatchNormalization\u001b[0m)                 │                             │                 │\n",
              "├──────────────────────────────────────┼─────────────────────────────┼─────────────────┤\n",
              "│ dropout_10 (\u001b[38;5;33mDropout\u001b[0m)                 │ ?                           │     \u001b[38;5;34m0\u001b[0m (unbuilt) │\n",
              "├──────────────────────────────────────┼─────────────────────────────┼─────────────────┤\n",
              "│ dense_15 (\u001b[38;5;33mDense\u001b[0m)                     │ ?                           │     \u001b[38;5;34m0\u001b[0m (unbuilt) │\n",
              "├──────────────────────────────────────┼─────────────────────────────┼─────────────────┤\n",
              "│ batch_normalization_11               │ ?                           │     \u001b[38;5;34m0\u001b[0m (unbuilt) │\n",
              "│ (\u001b[38;5;33mBatchNormalization\u001b[0m)                 │                             │                 │\n",
              "├──────────────────────────────────────┼─────────────────────────────┼─────────────────┤\n",
              "│ dropout_11 (\u001b[38;5;33mDropout\u001b[0m)                 │ ?                           │     \u001b[38;5;34m0\u001b[0m (unbuilt) │\n",
              "├──────────────────────────────────────┼─────────────────────────────┼─────────────────┤\n",
              "│ dense_16 (\u001b[38;5;33mDense\u001b[0m)                     │ ?                           │     \u001b[38;5;34m0\u001b[0m (unbuilt) │\n",
              "├──────────────────────────────────────┼─────────────────────────────┼─────────────────┤\n",
              "│ batch_normalization_12               │ ?                           │     \u001b[38;5;34m0\u001b[0m (unbuilt) │\n",
              "│ (\u001b[38;5;33mBatchNormalization\u001b[0m)                 │                             │                 │\n",
              "├──────────────────────────────────────┼─────────────────────────────┼─────────────────┤\n",
              "│ dropout_12 (\u001b[38;5;33mDropout\u001b[0m)                 │ ?                           │     \u001b[38;5;34m0\u001b[0m (unbuilt) │\n",
              "├──────────────────────────────────────┼─────────────────────────────┼─────────────────┤\n",
              "│ dense_17 (\u001b[38;5;33mDense\u001b[0m)                     │ ?                           │     \u001b[38;5;34m0\u001b[0m (unbuilt) │\n",
              "└──────────────────────────────────────┴─────────────────────────────┴─────────────────┘\n"
            ],
            "text/html": [
              "<pre style=\"white-space:pre;overflow-x:auto;line-height:normal;font-family:Menlo,'DejaVu Sans Mono',consolas,'Courier New',monospace\">┏━━━━━━━━━━━━━━━━━━━━━━━━━━━━━━━━━━━━━━┳━━━━━━━━━━━━━━━━━━━━━━━━━━━━━┳━━━━━━━━━━━━━━━━━┓\n",
              "┃<span style=\"font-weight: bold\"> Layer (type)                         </span>┃<span style=\"font-weight: bold\"> Output Shape                </span>┃<span style=\"font-weight: bold\">         Param # </span>┃\n",
              "┡━━━━━━━━━━━━━━━━━━━━━━━━━━━━━━━━━━━━━━╇━━━━━━━━━━━━━━━━━━━━━━━━━━━━━╇━━━━━━━━━━━━━━━━━┩\n",
              "│ embedding_5 (<span style=\"color: #0087ff; text-decoration-color: #0087ff\">Embedding</span>)              │ ?                           │     <span style=\"color: #00af00; text-decoration-color: #00af00\">0</span> (unbuilt) │\n",
              "├──────────────────────────────────────┼─────────────────────────────┼─────────────────┤\n",
              "│ flatten_3 (<span style=\"color: #0087ff; text-decoration-color: #0087ff\">Flatten</span>)                  │ ?                           │     <span style=\"color: #00af00; text-decoration-color: #00af00\">0</span> (unbuilt) │\n",
              "├──────────────────────────────────────┼─────────────────────────────┼─────────────────┤\n",
              "│ dense_14 (<span style=\"color: #0087ff; text-decoration-color: #0087ff\">Dense</span>)                     │ ?                           │     <span style=\"color: #00af00; text-decoration-color: #00af00\">0</span> (unbuilt) │\n",
              "├──────────────────────────────────────┼─────────────────────────────┼─────────────────┤\n",
              "│ batch_normalization_10               │ ?                           │     <span style=\"color: #00af00; text-decoration-color: #00af00\">0</span> (unbuilt) │\n",
              "│ (<span style=\"color: #0087ff; text-decoration-color: #0087ff\">BatchNormalization</span>)                 │                             │                 │\n",
              "├──────────────────────────────────────┼─────────────────────────────┼─────────────────┤\n",
              "│ dropout_10 (<span style=\"color: #0087ff; text-decoration-color: #0087ff\">Dropout</span>)                 │ ?                           │     <span style=\"color: #00af00; text-decoration-color: #00af00\">0</span> (unbuilt) │\n",
              "├──────────────────────────────────────┼─────────────────────────────┼─────────────────┤\n",
              "│ dense_15 (<span style=\"color: #0087ff; text-decoration-color: #0087ff\">Dense</span>)                     │ ?                           │     <span style=\"color: #00af00; text-decoration-color: #00af00\">0</span> (unbuilt) │\n",
              "├──────────────────────────────────────┼─────────────────────────────┼─────────────────┤\n",
              "│ batch_normalization_11               │ ?                           │     <span style=\"color: #00af00; text-decoration-color: #00af00\">0</span> (unbuilt) │\n",
              "│ (<span style=\"color: #0087ff; text-decoration-color: #0087ff\">BatchNormalization</span>)                 │                             │                 │\n",
              "├──────────────────────────────────────┼─────────────────────────────┼─────────────────┤\n",
              "│ dropout_11 (<span style=\"color: #0087ff; text-decoration-color: #0087ff\">Dropout</span>)                 │ ?                           │     <span style=\"color: #00af00; text-decoration-color: #00af00\">0</span> (unbuilt) │\n",
              "├──────────────────────────────────────┼─────────────────────────────┼─────────────────┤\n",
              "│ dense_16 (<span style=\"color: #0087ff; text-decoration-color: #0087ff\">Dense</span>)                     │ ?                           │     <span style=\"color: #00af00; text-decoration-color: #00af00\">0</span> (unbuilt) │\n",
              "├──────────────────────────────────────┼─────────────────────────────┼─────────────────┤\n",
              "│ batch_normalization_12               │ ?                           │     <span style=\"color: #00af00; text-decoration-color: #00af00\">0</span> (unbuilt) │\n",
              "│ (<span style=\"color: #0087ff; text-decoration-color: #0087ff\">BatchNormalization</span>)                 │                             │                 │\n",
              "├──────────────────────────────────────┼─────────────────────────────┼─────────────────┤\n",
              "│ dropout_12 (<span style=\"color: #0087ff; text-decoration-color: #0087ff\">Dropout</span>)                 │ ?                           │     <span style=\"color: #00af00; text-decoration-color: #00af00\">0</span> (unbuilt) │\n",
              "├──────────────────────────────────────┼─────────────────────────────┼─────────────────┤\n",
              "│ dense_17 (<span style=\"color: #0087ff; text-decoration-color: #0087ff\">Dense</span>)                     │ ?                           │     <span style=\"color: #00af00; text-decoration-color: #00af00\">0</span> (unbuilt) │\n",
              "└──────────────────────────────────────┴─────────────────────────────┴─────────────────┘\n",
              "</pre>\n"
            ]
          },
          "metadata": {}
        },
        {
          "output_type": "display_data",
          "data": {
            "text/plain": [
              "\u001b[1m Total params: \u001b[0m\u001b[38;5;34m0\u001b[0m (0.00 B)\n"
            ],
            "text/html": [
              "<pre style=\"white-space:pre;overflow-x:auto;line-height:normal;font-family:Menlo,'DejaVu Sans Mono',consolas,'Courier New',monospace\"><span style=\"font-weight: bold\"> Total params: </span><span style=\"color: #00af00; text-decoration-color: #00af00\">0</span> (0.00 B)\n",
              "</pre>\n"
            ]
          },
          "metadata": {}
        },
        {
          "output_type": "display_data",
          "data": {
            "text/plain": [
              "\u001b[1m Trainable params: \u001b[0m\u001b[38;5;34m0\u001b[0m (0.00 B)\n"
            ],
            "text/html": [
              "<pre style=\"white-space:pre;overflow-x:auto;line-height:normal;font-family:Menlo,'DejaVu Sans Mono',consolas,'Courier New',monospace\"><span style=\"font-weight: bold\"> Trainable params: </span><span style=\"color: #00af00; text-decoration-color: #00af00\">0</span> (0.00 B)\n",
              "</pre>\n"
            ]
          },
          "metadata": {}
        },
        {
          "output_type": "display_data",
          "data": {
            "text/plain": [
              "\u001b[1m Non-trainable params: \u001b[0m\u001b[38;5;34m0\u001b[0m (0.00 B)\n"
            ],
            "text/html": [
              "<pre style=\"white-space:pre;overflow-x:auto;line-height:normal;font-family:Menlo,'DejaVu Sans Mono',consolas,'Courier New',monospace\"><span style=\"font-weight: bold\"> Non-trainable params: </span><span style=\"color: #00af00; text-decoration-color: #00af00\">0</span> (0.00 B)\n",
              "</pre>\n"
            ]
          },
          "metadata": {}
        }
      ]
    },
    {
      "cell_type": "code",
      "source": [
        "early_stopping = EarlyStopping(monitor='val_loss', patience=5, restore_best_weights=True)\n",
        "\n",
        "history = model.fit(x_train_pad, y_train, epochs=100, validation_data=(x_val_pad, y_val), batch_size=10,callbacks=[early_stopping])"
      ],
      "metadata": {
        "id": "V0cBopJFjMLR",
        "colab": {
          "base_uri": "https://localhost:8080/"
        },
        "outputId": "10e79952-b0a1-427e-91f0-83382a5e5475"
      },
      "execution_count": null,
      "outputs": [
        {
          "output_type": "stream",
          "name": "stdout",
          "text": [
            "Epoch 1/100\n",
            "\u001b[1m1600/1600\u001b[0m \u001b[32m━━━━━━━━━━━━━━━━━━━━\u001b[0m\u001b[37m\u001b[0m \u001b[1m13s\u001b[0m 6ms/step - accuracy: 0.1830 - loss: 5.6340 - val_accuracy: 0.2660 - val_loss: 4.2960\n",
            "Epoch 2/100\n",
            "\u001b[1m1600/1600\u001b[0m \u001b[32m━━━━━━━━━━━━━━━━━━━━\u001b[0m\u001b[37m\u001b[0m \u001b[1m8s\u001b[0m 5ms/step - accuracy: 0.2170 - loss: 4.7639 - val_accuracy: 0.3200 - val_loss: 3.7881\n",
            "Epoch 3/100\n",
            "\u001b[1m1600/1600\u001b[0m \u001b[32m━━━━━━━━━━━━━━━━━━━━\u001b[0m\u001b[37m\u001b[0m \u001b[1m10s\u001b[0m 6ms/step - accuracy: 0.2552 - loss: 4.0851 - val_accuracy: 0.3160 - val_loss: 3.4044\n",
            "Epoch 4/100\n",
            "\u001b[1m1600/1600\u001b[0m \u001b[32m━━━━━━━━━━━━━━━━━━━━\u001b[0m\u001b[37m\u001b[0m \u001b[1m11s\u001b[0m 6ms/step - accuracy: 0.2689 - loss: 3.5979 - val_accuracy: 0.3250 - val_loss: 3.0682\n",
            "Epoch 5/100\n",
            "\u001b[1m1600/1600\u001b[0m \u001b[32m━━━━━━━━━━━━━━━━━━━━\u001b[0m\u001b[37m\u001b[0m \u001b[1m8s\u001b[0m 5ms/step - accuracy: 0.2834 - loss: 3.1973 - val_accuracy: 0.3225 - val_loss: 2.8027\n",
            "Epoch 6/100\n",
            "\u001b[1m1600/1600\u001b[0m \u001b[32m━━━━━━━━━━━━━━━━━━━━\u001b[0m\u001b[37m\u001b[0m \u001b[1m10s\u001b[0m 6ms/step - accuracy: 0.2928 - loss: 2.8735 - val_accuracy: 0.3305 - val_loss: 2.5863\n",
            "Epoch 7/100\n",
            "\u001b[1m1600/1600\u001b[0m \u001b[32m━━━━━━━━━━━━━━━━━━━━\u001b[0m\u001b[37m\u001b[0m \u001b[1m8s\u001b[0m 5ms/step - accuracy: 0.2915 - loss: 2.6322 - val_accuracy: 0.3370 - val_loss: 2.3860\n",
            "Epoch 8/100\n",
            "\u001b[1m1600/1600\u001b[0m \u001b[32m━━━━━━━━━━━━━━━━━━━━\u001b[0m\u001b[37m\u001b[0m \u001b[1m9s\u001b[0m 6ms/step - accuracy: 0.3029 - loss: 2.4123 - val_accuracy: 0.3320 - val_loss: 2.2274\n",
            "Epoch 9/100\n",
            "\u001b[1m1600/1600\u001b[0m \u001b[32m━━━━━━━━━━━━━━━━━━━━\u001b[0m\u001b[37m\u001b[0m \u001b[1m10s\u001b[0m 6ms/step - accuracy: 0.3205 - loss: 2.2319 - val_accuracy: 0.3565 - val_loss: 2.1005\n",
            "Epoch 10/100\n",
            "\u001b[1m1600/1600\u001b[0m \u001b[32m━━━━━━━━━━━━━━━━━━━━\u001b[0m\u001b[37m\u001b[0m \u001b[1m8s\u001b[0m 5ms/step - accuracy: 0.3128 - loss: 2.1131 - val_accuracy: 0.3425 - val_loss: 1.9951\n",
            "Epoch 11/100\n",
            "\u001b[1m1600/1600\u001b[0m \u001b[32m━━━━━━━━━━━━━━━━━━━━\u001b[0m\u001b[37m\u001b[0m \u001b[1m10s\u001b[0m 6ms/step - accuracy: 0.3289 - loss: 1.9995 - val_accuracy: 0.3485 - val_loss: 1.9152\n",
            "Epoch 12/100\n",
            "\u001b[1m1600/1600\u001b[0m \u001b[32m━━━━━━━━━━━━━━━━━━━━\u001b[0m\u001b[37m\u001b[0m \u001b[1m7s\u001b[0m 5ms/step - accuracy: 0.3306 - loss: 1.9185 - val_accuracy: 0.3540 - val_loss: 1.8498\n",
            "Epoch 13/100\n",
            "\u001b[1m1600/1600\u001b[0m \u001b[32m━━━━━━━━━━━━━━━━━━━━\u001b[0m\u001b[37m\u001b[0m \u001b[1m10s\u001b[0m 5ms/step - accuracy: 0.3319 - loss: 1.8519 - val_accuracy: 0.3580 - val_loss: 1.7959\n",
            "Epoch 14/100\n",
            "\u001b[1m1600/1600\u001b[0m \u001b[32m━━━━━━━━━━━━━━━━━━━━\u001b[0m\u001b[37m\u001b[0m \u001b[1m10s\u001b[0m 6ms/step - accuracy: 0.3419 - loss: 1.7905 - val_accuracy: 0.3610 - val_loss: 1.7497\n",
            "Epoch 15/100\n",
            "\u001b[1m1600/1600\u001b[0m \u001b[32m━━━━━━━━━━━━━━━━━━━━\u001b[0m\u001b[37m\u001b[0m \u001b[1m8s\u001b[0m 5ms/step - accuracy: 0.3415 - loss: 1.7512 - val_accuracy: 0.3640 - val_loss: 1.7124\n",
            "Epoch 16/100\n",
            "\u001b[1m1600/1600\u001b[0m \u001b[32m━━━━━━━━━━━━━━━━━━━━\u001b[0m\u001b[37m\u001b[0m \u001b[1m10s\u001b[0m 5ms/step - accuracy: 0.3396 - loss: 1.7107 - val_accuracy: 0.3650 - val_loss: 1.6797\n",
            "Epoch 17/100\n",
            "\u001b[1m1600/1600\u001b[0m \u001b[32m━━━━━━━━━━━━━━━━━━━━\u001b[0m\u001b[37m\u001b[0m \u001b[1m10s\u001b[0m 6ms/step - accuracy: 0.3395 - loss: 1.6828 - val_accuracy: 0.3355 - val_loss: 1.6637\n",
            "Epoch 18/100\n",
            "\u001b[1m1600/1600\u001b[0m \u001b[32m━━━━━━━━━━━━━━━━━━━━\u001b[0m\u001b[37m\u001b[0m \u001b[1m8s\u001b[0m 5ms/step - accuracy: 0.3514 - loss: 1.6568 - val_accuracy: 0.3700 - val_loss: 1.6417\n",
            "Epoch 19/100\n",
            "\u001b[1m1600/1600\u001b[0m \u001b[32m━━━━━━━━━━━━━━━━━━━━\u001b[0m\u001b[37m\u001b[0m \u001b[1m13s\u001b[0m 8ms/step - accuracy: 0.3552 - loss: 1.6461 - val_accuracy: 0.3545 - val_loss: 1.6838\n",
            "Epoch 20/100\n",
            "\u001b[1m1600/1600\u001b[0m \u001b[32m━━━━━━━━━━━━━━━━━━━━\u001b[0m\u001b[37m\u001b[0m \u001b[1m16s\u001b[0m 5ms/step - accuracy: 0.3651 - loss: 1.6233 - val_accuracy: 0.3315 - val_loss: 1.6409\n",
            "Epoch 21/100\n",
            "\u001b[1m1600/1600\u001b[0m \u001b[32m━━━━━━━━━━━━━━━━━━━━\u001b[0m\u001b[37m\u001b[0m \u001b[1m9s\u001b[0m 5ms/step - accuracy: 0.3495 - loss: 1.6191 - val_accuracy: 0.3680 - val_loss: 1.6252\n",
            "Epoch 22/100\n",
            "\u001b[1m1600/1600\u001b[0m \u001b[32m━━━━━━━━━━━━━━━━━━━━\u001b[0m\u001b[37m\u001b[0m \u001b[1m10s\u001b[0m 6ms/step - accuracy: 0.3703 - loss: 1.5929 - val_accuracy: 0.3515 - val_loss: 1.6161\n",
            "Epoch 23/100\n",
            "\u001b[1m1600/1600\u001b[0m \u001b[32m━━━━━━━━━━━━━━━━━━━━\u001b[0m\u001b[37m\u001b[0m \u001b[1m17s\u001b[0m 5ms/step - accuracy: 0.3791 - loss: 1.5696 - val_accuracy: 0.3730 - val_loss: 1.5930\n",
            "Epoch 24/100\n",
            "\u001b[1m1600/1600\u001b[0m \u001b[32m━━━━━━━━━━━━━━━━━━━━\u001b[0m\u001b[37m\u001b[0m \u001b[1m10s\u001b[0m 6ms/step - accuracy: 0.3871 - loss: 1.5635 - val_accuracy: 0.3520 - val_loss: 1.5996\n",
            "Epoch 25/100\n",
            "\u001b[1m1600/1600\u001b[0m \u001b[32m━━━━━━━━━━━━━━━━━━━━\u001b[0m\u001b[37m\u001b[0m \u001b[1m8s\u001b[0m 5ms/step - accuracy: 0.3822 - loss: 1.5530 - val_accuracy: 0.3730 - val_loss: 1.6046\n",
            "Epoch 26/100\n",
            "\u001b[1m1600/1600\u001b[0m \u001b[32m━━━━━━━━━━━━━━━━━━━━\u001b[0m\u001b[37m\u001b[0m \u001b[1m10s\u001b[0m 5ms/step - accuracy: 0.3850 - loss: 1.5462 - val_accuracy: 0.3410 - val_loss: 1.6297\n",
            "Epoch 27/100\n",
            "\u001b[1m1600/1600\u001b[0m \u001b[32m━━━━━━━━━━━━━━━━━━━━\u001b[0m\u001b[37m\u001b[0m \u001b[1m10s\u001b[0m 6ms/step - accuracy: 0.3870 - loss: 1.5442 - val_accuracy: 0.3850 - val_loss: 1.5979\n",
            "Epoch 28/100\n",
            "\u001b[1m1600/1600\u001b[0m \u001b[32m━━━━━━━━━━━━━━━━━━━━\u001b[0m\u001b[37m\u001b[0m \u001b[1m8s\u001b[0m 5ms/step - accuracy: 0.3935 - loss: 1.5371 - val_accuracy: 0.3735 - val_loss: 1.5782\n",
            "Epoch 29/100\n",
            "\u001b[1m1600/1600\u001b[0m \u001b[32m━━━━━━━━━━━━━━━━━━━━\u001b[0m\u001b[37m\u001b[0m \u001b[1m11s\u001b[0m 5ms/step - accuracy: 0.3974 - loss: 1.5254 - val_accuracy: 0.3190 - val_loss: 1.6244\n",
            "Epoch 30/100\n",
            "\u001b[1m1600/1600\u001b[0m \u001b[32m━━━━━━━━━━━━━━━━━━━━\u001b[0m\u001b[37m\u001b[0m \u001b[1m12s\u001b[0m 6ms/step - accuracy: 0.4076 - loss: 1.5112 - val_accuracy: 0.3360 - val_loss: 1.6499\n",
            "Epoch 31/100\n",
            "\u001b[1m1600/1600\u001b[0m \u001b[32m━━━━━━━━━━━━━━━━━━━━\u001b[0m\u001b[37m\u001b[0m \u001b[1m8s\u001b[0m 5ms/step - accuracy: 0.3940 - loss: 1.5329 - val_accuracy: 0.3505 - val_loss: 1.6456\n",
            "Epoch 32/100\n",
            "\u001b[1m1600/1600\u001b[0m \u001b[32m━━━━━━━━━━━━━━━━━━━━\u001b[0m\u001b[37m\u001b[0m \u001b[1m10s\u001b[0m 5ms/step - accuracy: 0.4006 - loss: 1.5212 - val_accuracy: 0.3105 - val_loss: 1.6286\n",
            "Epoch 33/100\n",
            "\u001b[1m1600/1600\u001b[0m \u001b[32m━━━━━━━━━━━━━━━━━━━━\u001b[0m\u001b[37m\u001b[0m \u001b[1m10s\u001b[0m 6ms/step - accuracy: 0.3928 - loss: 1.5161 - val_accuracy: 0.3705 - val_loss: 1.5911\n"
          ]
        }
      ]
    },
    {
      "cell_type": "code",
      "source": [
        "test_loss, test_accuracy = model.evaluate(x_test_pad, y_test)\n",
        "print(f'Test Accuracy: {test_accuracy * 100:.2f}%')\n",
        "\n",
        "import matplotlib.pyplot as plt\n",
        "\n",
        "plt.plot(history.history['accuracy'], label='train accuracy')\n",
        "plt.plot(history.history['val_accuracy'], label='val accuracy')\n",
        "plt.xlabel('Epochs')\n",
        "plt.ylabel('Accuracy')\n",
        "plt.legend()\n",
        "plt.show()"
      ],
      "metadata": {
        "id": "h9Mv55gejURp",
        "colab": {
          "base_uri": "https://localhost:8080/",
          "height": 484
        },
        "outputId": "d3e0bdd6-c629-42bd-bf3a-56b7502dd515"
      },
      "execution_count": null,
      "outputs": [
        {
          "output_type": "stream",
          "name": "stdout",
          "text": [
            "\u001b[1m63/63\u001b[0m \u001b[32m━━━━━━━━━━━━━━━━━━━━\u001b[0m\u001b[37m\u001b[0m \u001b[1m0s\u001b[0m 2ms/step - accuracy: 0.3744 - loss: 1.5590\n",
            "Test Accuracy: 37.70%\n"
          ]
        },
        {
          "output_type": "display_data",
          "data": {
            "text/plain": [
              "<Figure size 640x480 with 1 Axes>"
            ],
            "image/png": "[encoded data removed]"
          },
          "metadata": {}
        }
      ]
    },
    {
      "cell_type": "markdown",
      "source": [
        "# Bidirectional LSTM"
      ],
      "metadata": {
        "id": "LoNBrNayB3Br"
      }
    },
    {
      "cell_type": "code",
      "source": [
        "from tensorflow.keras.layers import Bidirectional, LSTM\n",
        "from tensorflow.keras.callbacks import ReduceLROnPlateau\n",
        "\n",
        "model = Sequential([\n",
        "    Embedding(input_dim=10000, output_dim=64),\n",
        "    Bidirectional(LSTM(128, return_sequences=True)),\n",
        "\n",
        "    Bidirectional(LSTM(128)),\n",
        "\n",
        "    Dense(128, activation='relu', kernel_regularizer=regularizers.l2(0.01)),\n",
        "    BatchNormalization(),\n",
        "    Dropout(0.5),\n",
        "\n",
        "    Dense(128, activation='relu', kernel_regularizer=regularizers.l2(0.01)),\n",
        "    BatchNormalization(),\n",
        "    Dropout(0.5),\n",
        "\n",
        "    Dense(len(le.classes_), activation='softmax')\n",
        "])\n",
        "\n",
        "model.compile(\n",
        "    loss=keras.losses.SparseCategoricalCrossentropy(),\n",
        "    optimizer=keras.optimizers.Adam(learning_rate=0.001),\n",
        "    metrics=['accuracy']\n",
        ")\n",
        "\n",
        "model.summary()"
      ],
      "metadata": {
        "id": "5B5xmtwFusR_",
        "colab": {
          "base_uri": "https://localhost:8080/",
          "height": 481
        },
        "outputId": "ba33980f-8fd0-4302-fc9b-451b7acf8af5"
      },
      "execution_count": null,
      "outputs": [
        {
          "output_type": "display_data",
          "data": {
            "text/plain": [
              "\u001b[1mModel: \"sequential_6\"\u001b[0m\n"
            ],
            "text/html": [
              "<pre style=\"white-space:pre;overflow-x:auto;line-height:normal;font-family:Menlo,'DejaVu Sans Mono',consolas,'Courier New',monospace\"><span style=\"font-weight: bold\">Model: \"sequential_6\"</span>\n",
              "</pre>\n"
            ]
          },
          "metadata": {}
        },
        {
          "output_type": "display_data",
          "data": {
            "text/plain": [
              "┏━━━━━━━━━━━━━━━━━━━━━━━━━━━━━━━━━━━━━━┳━━━━━━━━━━━━━━━━━━━━━━━━━━━━━┳━━━━━━━━━━━━━━━━━┓\n",
              "┃\u001b[1m \u001b[0m\u001b[1mLayer (type)                        \u001b[0m\u001b[1m \u001b[0m┃\u001b[1m \u001b[0m\u001b[1mOutput Shape               \u001b[0m\u001b[1m \u001b[0m┃\u001b[1m \u001b[0m\u001b[1m        Param #\u001b[0m\u001b[1m \u001b[0m┃\n",
              "┡━━━━━━━━━━━━━━━━━━━━━━━━━━━━━━━━━━━━━━╇━━━━━━━━━━━━━━━━━━━━━━━━━━━━━╇━━━━━━━━━━━━━━━━━┩\n",
              "│ embedding_7 (\u001b[38;5;33mEmbedding\u001b[0m)              │ ?                           │     \u001b[38;5;34m0\u001b[0m (unbuilt) │\n",
              "├──────────────────────────────────────┼─────────────────────────────┼─────────────────┤\n",
              "│ bidirectional_4 (\u001b[38;5;33mBidirectional\u001b[0m)      │ ?                           │     \u001b[38;5;34m0\u001b[0m (unbuilt) │\n",
              "├──────────────────────────────────────┼─────────────────────────────┼─────────────────┤\n",
              "│ bidirectional_5 (\u001b[38;5;33mBidirectional\u001b[0m)      │ ?                           │     \u001b[38;5;34m0\u001b[0m (unbuilt) │\n",
              "├──────────────────────────────────────┼─────────────────────────────┼─────────────────┤\n",
              "│ dense_21 (\u001b[38;5;33mDense\u001b[0m)                     │ ?                           │     \u001b[38;5;34m0\u001b[0m (unbuilt) │\n",
              "├──────────────────────────────────────┼─────────────────────────────┼─────────────────┤\n",
              "│ batch_normalization_15               │ ?                           │     \u001b[38;5;34m0\u001b[0m (unbuilt) │\n",
              "│ (\u001b[38;5;33mBatchNormalization\u001b[0m)                 │                             │                 │\n",
              "├──────────────────────────────────────┼─────────────────────────────┼─────────────────┤\n",
              "│ dropout_15 (\u001b[38;5;33mDropout\u001b[0m)                 │ ?                           │     \u001b[38;5;34m0\u001b[0m (unbuilt) │\n",
              "├──────────────────────────────────────┼─────────────────────────────┼─────────────────┤\n",
              "│ dense_22 (\u001b[38;5;33mDense\u001b[0m)                     │ ?                           │     \u001b[38;5;34m0\u001b[0m (unbuilt) │\n",
              "├──────────────────────────────────────┼─────────────────────────────┼─────────────────┤\n",
              "│ batch_normalization_16               │ ?                           │     \u001b[38;5;34m0\u001b[0m (unbuilt) │\n",
              "│ (\u001b[38;5;33mBatchNormalization\u001b[0m)                 │                             │                 │\n",
              "├──────────────────────────────────────┼─────────────────────────────┼─────────────────┤\n",
              "│ dropout_16 (\u001b[38;5;33mDropout\u001b[0m)                 │ ?                           │     \u001b[38;5;34m0\u001b[0m (unbuilt) │\n",
              "├──────────────────────────────────────┼─────────────────────────────┼─────────────────┤\n",
              "│ dense_23 (\u001b[38;5;33mDense\u001b[0m)                     │ ?                           │     \u001b[38;5;34m0\u001b[0m (unbuilt) │\n",
              "└──────────────────────────────────────┴─────────────────────────────┴─────────────────┘\n"
            ],
            "text/html": [
              "<pre style=\"white-space:pre;overflow-x:auto;line-height:normal;font-family:Menlo,'DejaVu Sans Mono',consolas,'Courier New',monospace\">┏━━━━━━━━━━━━━━━━━━━━━━━━━━━━━━━━━━━━━━┳━━━━━━━━━━━━━━━━━━━━━━━━━━━━━┳━━━━━━━━━━━━━━━━━┓\n",
              "┃<span style=\"font-weight: bold\"> Layer (type)                         </span>┃<span style=\"font-weight: bold\"> Output Shape                </span>┃<span style=\"font-weight: bold\">         Param # </span>┃\n",
              "┡━━━━━━━━━━━━━━━━━━━━━━━━━━━━━━━━━━━━━━╇━━━━━━━━━━━━━━━━━━━━━━━━━━━━━╇━━━━━━━━━━━━━━━━━┩\n",
              "│ embedding_7 (<span style=\"color: #0087ff; text-decoration-color: #0087ff\">Embedding</span>)              │ ?                           │     <span style=\"color: #00af00; text-decoration-color: #00af00\">0</span> (unbuilt) │\n",
              "├──────────────────────────────────────┼─────────────────────────────┼─────────────────┤\n",
              "│ bidirectional_4 (<span style=\"color: #0087ff; text-decoration-color: #0087ff\">Bidirectional</span>)      │ ?                           │     <span style=\"color: #00af00; text-decoration-color: #00af00\">0</span> (unbuilt) │\n",
              "├──────────────────────────────────────┼─────────────────────────────┼─────────────────┤\n",
              "│ bidirectional_5 (<span style=\"color: #0087ff; text-decoration-color: #0087ff\">Bidirectional</span>)      │ ?                           │     <span style=\"color: #00af00; text-decoration-color: #00af00\">0</span> (unbuilt) │\n",
              "├──────────────────────────────────────┼─────────────────────────────┼─────────────────┤\n",
              "│ dense_21 (<span style=\"color: #0087ff; text-decoration-color: #0087ff\">Dense</span>)                     │ ?                           │     <span style=\"color: #00af00; text-decoration-color: #00af00\">0</span> (unbuilt) │\n",
              "├──────────────────────────────────────┼─────────────────────────────┼─────────────────┤\n",
              "│ batch_normalization_15               │ ?                           │     <span style=\"color: #00af00; text-decoration-color: #00af00\">0</span> (unbuilt) │\n",
              "│ (<span style=\"color: #0087ff; text-decoration-color: #0087ff\">BatchNormalization</span>)                 │                             │                 │\n",
              "├──────────────────────────────────────┼─────────────────────────────┼─────────────────┤\n",
              "│ dropout_15 (<span style=\"color: #0087ff; text-decoration-color: #0087ff\">Dropout</span>)                 │ ?                           │     <span style=\"color: #00af00; text-decoration-color: #00af00\">0</span> (unbuilt) │\n",
              "├──────────────────────────────────────┼─────────────────────────────┼─────────────────┤\n",
              "│ dense_22 (<span style=\"color: #0087ff; text-decoration-color: #0087ff\">Dense</span>)                     │ ?                           │     <span style=\"color: #00af00; text-decoration-color: #00af00\">0</span> (unbuilt) │\n",
              "├──────────────────────────────────────┼─────────────────────────────┼─────────────────┤\n",
              "│ batch_normalization_16               │ ?                           │     <span style=\"color: #00af00; text-decoration-color: #00af00\">0</span> (unbuilt) │\n",
              "│ (<span style=\"color: #0087ff; text-decoration-color: #0087ff\">BatchNormalization</span>)                 │                             │                 │\n",
              "├──────────────────────────────────────┼─────────────────────────────┼─────────────────┤\n",
              "│ dropout_16 (<span style=\"color: #0087ff; text-decoration-color: #0087ff\">Dropout</span>)                 │ ?                           │     <span style=\"color: #00af00; text-decoration-color: #00af00\">0</span> (unbuilt) │\n",
              "├──────────────────────────────────────┼─────────────────────────────┼─────────────────┤\n",
              "│ dense_23 (<span style=\"color: #0087ff; text-decoration-color: #0087ff\">Dense</span>)                     │ ?                           │     <span style=\"color: #00af00; text-decoration-color: #00af00\">0</span> (unbuilt) │\n",
              "└──────────────────────────────────────┴─────────────────────────────┴─────────────────┘\n",
              "</pre>\n"
            ]
          },
          "metadata": {}
        },
        {
          "output_type": "display_data",
          "data": {
            "text/plain": [
              "\u001b[1m Total params: \u001b[0m\u001b[38;5;34m0\u001b[0m (0.00 B)\n"
            ],
            "text/html": [
              "<pre style=\"white-space:pre;overflow-x:auto;line-height:normal;font-family:Menlo,'DejaVu Sans Mono',consolas,'Courier New',monospace\"><span style=\"font-weight: bold\"> Total params: </span><span style=\"color: #00af00; text-decoration-color: #00af00\">0</span> (0.00 B)\n",
              "</pre>\n"
            ]
          },
          "metadata": {}
        },
        {
          "output_type": "display_data",
          "data": {
            "text/plain": [
              "\u001b[1m Trainable params: \u001b[0m\u001b[38;5;34m0\u001b[0m (0.00 B)\n"
            ],
            "text/html": [
              "<pre style=\"white-space:pre;overflow-x:auto;line-height:normal;font-family:Menlo,'DejaVu Sans Mono',consolas,'Courier New',monospace\"><span style=\"font-weight: bold\"> Trainable params: </span><span style=\"color: #00af00; text-decoration-color: #00af00\">0</span> (0.00 B)\n",
              "</pre>\n"
            ]
          },
          "metadata": {}
        },
        {
          "output_type": "display_data",
          "data": {
            "text/plain": [
              "\u001b[1m Non-trainable params: \u001b[0m\u001b[38;5;34m0\u001b[0m (0.00 B)\n"
            ],
            "text/html": [
              "<pre style=\"white-space:pre;overflow-x:auto;line-height:normal;font-family:Menlo,'DejaVu Sans Mono',consolas,'Courier New',monospace\"><span style=\"font-weight: bold\"> Non-trainable params: </span><span style=\"color: #00af00; text-decoration-color: #00af00\">0</span> (0.00 B)\n",
              "</pre>\n"
            ]
          },
          "metadata": {}
        }
      ]
    },
    {
      "cell_type": "code",
      "source": [
        "early_stopping = EarlyStopping(monitor='val_loss', patience=10, restore_best_weights=True)\n",
        "lr_scheduler = ReduceLROnPlateau(monitor='val_loss', factor=0.5, patience=5)\n",
        "\n",
        "history = model.fit(x_train_pad, y_train, epochs=30, validation_data=(x_val_pad, y_val), batch_size=64, callbacks=[early_stopping,lr_scheduler])"
      ],
      "metadata": {
        "id": "jM9AFk1Q57lU",
        "colab": {
          "base_uri": "https://localhost:8080/"
        },
        "outputId": "d88cb073-c56f-4a8f-a0ef-65d392d35c90"
      },
      "execution_count": null,
      "outputs": [
        {
          "output_type": "stream",
          "name": "stdout",
          "text": [
            "Epoch 1/30\n",
            "\u001b[1m250/250\u001b[0m \u001b[32m━━━━━━━━━━━━━━━━━━━━\u001b[0m\u001b[37m\u001b[0m \u001b[1m135s\u001b[0m 506ms/step - accuracy: 0.3194 - loss: 4.2683 - val_accuracy: 0.5670 - val_loss: 2.4467 - learning_rate: 0.0010\n",
            "Epoch 2/30\n",
            "\u001b[1m250/250\u001b[0m \u001b[32m━━━━━━━━━━━━━━━━━━━━\u001b[0m\u001b[37m\u001b[0m \u001b[1m138s\u001b[0m 489ms/step - accuracy: 0.7980 - loss: 1.4214 - val_accuracy: 0.4915 - val_loss: 1.6526 - learning_rate: 0.0010\n",
            "Epoch 3/30\n",
            "\u001b[1m250/250\u001b[0m \u001b[32m━━━━━━━━━━━━━━━━━━━━\u001b[0m\u001b[37m\u001b[0m \u001b[1m139s\u001b[0m 481ms/step - accuracy: 0.8858 - loss: 0.7314 - val_accuracy: 0.3995 - val_loss: 2.4104 - learning_rate: 0.0010\n",
            "Epoch 4/30\n",
            "\u001b[1m250/250\u001b[0m \u001b[32m━━━━━━━━━━━━━━━━━━━━\u001b[0m\u001b[37m\u001b[0m \u001b[1m144s\u001b[0m 486ms/step - accuracy: 0.9134 - loss: 0.4526 - val_accuracy: 0.7820 - val_loss: 0.8392 - learning_rate: 0.0010\n",
            "Epoch 5/30\n",
            "\u001b[1m250/250\u001b[0m \u001b[32m━━━━━━━━━━━━━━━━━━━━\u001b[0m\u001b[37m\u001b[0m \u001b[1m123s\u001b[0m 490ms/step - accuracy: 0.9354 - loss: 0.3118 - val_accuracy: 0.4925 - val_loss: 2.1707 - learning_rate: 0.0010\n",
            "Epoch 6/30\n",
            "\u001b[1m250/250\u001b[0m \u001b[32m━━━━━━━━━━━━━━━━━━━━\u001b[0m\u001b[37m\u001b[0m \u001b[1m143s\u001b[0m 494ms/step - accuracy: 0.9455 - loss: 0.2325 - val_accuracy: 0.7455 - val_loss: 1.0269 - learning_rate: 0.0010\n",
            "Epoch 7/30\n",
            "\u001b[1m250/250\u001b[0m \u001b[32m━━━━━━━━━━━━━━━━━━━━\u001b[0m\u001b[37m\u001b[0m \u001b[1m139s\u001b[0m 481ms/step - accuracy: 0.9549 - loss: 0.1847 - val_accuracy: 0.7065 - val_loss: 1.4401 - learning_rate: 0.0010\n",
            "Epoch 8/30\n",
            "\u001b[1m250/250\u001b[0m \u001b[32m━━━━━━━━━━━━━━━━━━━━\u001b[0m\u001b[37m\u001b[0m \u001b[1m121s\u001b[0m 485ms/step - accuracy: 0.9567 - loss: 0.1751 - val_accuracy: 0.7210 - val_loss: 1.2111 - learning_rate: 0.0010\n",
            "Epoch 9/30\n",
            "\u001b[1m250/250\u001b[0m \u001b[32m━━━━━━━━━━━━━━━━━━━━\u001b[0m\u001b[37m\u001b[0m \u001b[1m136s\u001b[0m 461ms/step - accuracy: 0.9615 - loss: 0.1504 - val_accuracy: 0.8600 - val_loss: 0.5866 - learning_rate: 0.0010\n",
            "Epoch 10/30\n",
            "\u001b[1m250/250\u001b[0m \u001b[32m━━━━━━━━━━━━━━━━━━━━\u001b[0m\u001b[37m\u001b[0m \u001b[1m146s\u001b[0m 474ms/step - accuracy: 0.9706 - loss: 0.1273 - val_accuracy: 0.8535 - val_loss: 0.6545 - learning_rate: 0.0010\n",
            "Epoch 11/30\n",
            "\u001b[1m250/250\u001b[0m \u001b[32m━━━━━━━━━━━━━━━━━━━━\u001b[0m\u001b[37m\u001b[0m \u001b[1m142s\u001b[0m 477ms/step - accuracy: 0.9722 - loss: 0.1115 - val_accuracy: 0.8490 - val_loss: 0.6849 - learning_rate: 0.0010\n",
            "Epoch 12/30\n",
            "\u001b[1m250/250\u001b[0m \u001b[32m━━━━━━━━━━━━━━━━━━━━\u001b[0m\u001b[37m\u001b[0m \u001b[1m118s\u001b[0m 469ms/step - accuracy: 0.9700 - loss: 0.1229 - val_accuracy: 0.8530 - val_loss: 0.7241 - learning_rate: 0.0010\n",
            "Epoch 13/30\n",
            "\u001b[1m250/250\u001b[0m \u001b[32m━━━━━━━━━━━━━━━━━━━━\u001b[0m\u001b[37m\u001b[0m \u001b[1m142s\u001b[0m 471ms/step - accuracy: 0.9769 - loss: 0.0971 - val_accuracy: 0.7715 - val_loss: 1.1014 - learning_rate: 0.0010\n",
            "Epoch 14/30\n",
            "\u001b[1m250/250\u001b[0m \u001b[32m━━━━━━━━━━━━━━━━━━━━\u001b[0m\u001b[37m\u001b[0m \u001b[1m142s\u001b[0m 470ms/step - accuracy: 0.9773 - loss: 0.0954 - val_accuracy: 0.8755 - val_loss: 0.5515 - learning_rate: 0.0010\n",
            "Epoch 15/30\n",
            "\u001b[1m250/250\u001b[0m \u001b[32m━━━━━━━━━━━━━━━━━━━━\u001b[0m\u001b[37m\u001b[0m \u001b[1m146s\u001b[0m 485ms/step - accuracy: 0.9816 - loss: 0.0879 - val_accuracy: 0.8690 - val_loss: 0.5980 - learning_rate: 0.0010\n",
            "Epoch 16/30\n",
            "\u001b[1m250/250\u001b[0m \u001b[32m━━━━━━━━━━━━━━━━━━━━\u001b[0m\u001b[37m\u001b[0m \u001b[1m139s\u001b[0m 471ms/step - accuracy: 0.9836 - loss: 0.0745 - val_accuracy: 0.8765 - val_loss: 0.6137 - learning_rate: 0.0010\n",
            "Epoch 17/30\n",
            "\u001b[1m250/250\u001b[0m \u001b[32m━━━━━━━━━━━━━━━━━━━━\u001b[0m\u001b[37m\u001b[0m \u001b[1m145s\u001b[0m 483ms/step - accuracy: 0.9790 - loss: 0.0913 - val_accuracy: 0.8675 - val_loss: 0.6694 - learning_rate: 0.0010\n",
            "Epoch 18/30\n",
            "\u001b[1m250/250\u001b[0m \u001b[32m━━━━━━━━━━━━━━━━━━━━\u001b[0m\u001b[37m\u001b[0m \u001b[1m118s\u001b[0m 472ms/step - accuracy: 0.9837 - loss: 0.0784 - val_accuracy: 0.8825 - val_loss: 0.5831 - learning_rate: 0.0010\n",
            "Epoch 19/30\n",
            "\u001b[1m250/250\u001b[0m \u001b[32m━━━━━━━━━━━━━━━━━━━━\u001b[0m\u001b[37m\u001b[0m \u001b[1m118s\u001b[0m 473ms/step - accuracy: 0.9861 - loss: 0.0655 - val_accuracy: 0.8800 - val_loss: 0.6677 - learning_rate: 0.0010\n",
            "Epoch 20/30\n",
            "\u001b[1m250/250\u001b[0m \u001b[32m━━━━━━━━━━━━━━━━━━━━\u001b[0m\u001b[37m\u001b[0m \u001b[1m140s\u001b[0m 467ms/step - accuracy: 0.9874 - loss: 0.0568 - val_accuracy: 0.8925 - val_loss: 0.5445 - learning_rate: 5.0000e-04\n",
            "Epoch 21/30\n",
            "\u001b[1m250/250\u001b[0m \u001b[32m━━━━━━━━━━━━━━━━━━━━\u001b[0m\u001b[37m\u001b[0m \u001b[1m145s\u001b[0m 477ms/step - accuracy: 0.9939 - loss: 0.0364 - val_accuracy: 0.8910 - val_loss: 0.5404 - learning_rate: 5.0000e-04\n",
            "Epoch 22/30\n",
            "\u001b[1m250/250\u001b[0m \u001b[32m━━━━━━━━━━━━━━━━━━━━\u001b[0m\u001b[37m\u001b[0m \u001b[1m143s\u001b[0m 483ms/step - accuracy: 0.9934 - loss: 0.0334 - val_accuracy: 0.8760 - val_loss: 0.6414 - learning_rate: 5.0000e-04\n",
            "Epoch 23/30\n",
            "\u001b[1m250/250\u001b[0m \u001b[32m━━━━━━━━━━━━━━━━━━━━\u001b[0m\u001b[37m\u001b[0m \u001b[1m142s\u001b[0m 481ms/step - accuracy: 0.9940 - loss: 0.0346 - val_accuracy: 0.8895 - val_loss: 0.6077 - learning_rate: 5.0000e-04\n",
            "Epoch 24/30\n",
            "\u001b[1m250/250\u001b[0m \u001b[32m━━━━━━━━━━━━━━━━━━━━\u001b[0m\u001b[37m\u001b[0m \u001b[1m140s\u001b[0m 474ms/step - accuracy: 0.9939 - loss: 0.0303 - val_accuracy: 0.8760 - val_loss: 0.6868 - learning_rate: 5.0000e-04\n",
            "Epoch 25/30\n",
            "\u001b[1m250/250\u001b[0m \u001b[32m━━━━━━━━━━━━━━━━━━━━\u001b[0m\u001b[37m\u001b[0m \u001b[1m120s\u001b[0m 480ms/step - accuracy: 0.9936 - loss: 0.0311 - val_accuracy: 0.8860 - val_loss: 0.6506 - learning_rate: 5.0000e-04\n",
            "Epoch 26/30\n",
            "\u001b[1m250/250\u001b[0m \u001b[32m━━━━━━━━━━━━━━━━━━━━\u001b[0m\u001b[37m\u001b[0m \u001b[1m143s\u001b[0m 485ms/step - accuracy: 0.9949 - loss: 0.0276 - val_accuracy: 0.8820 - val_loss: 0.6430 - learning_rate: 5.0000e-04\n",
            "Epoch 27/30\n",
            "\u001b[1m250/250\u001b[0m \u001b[32m━━━━━━━━━━━━━━━━━━━━\u001b[0m\u001b[37m\u001b[0m \u001b[1m119s\u001b[0m 474ms/step - accuracy: 0.9936 - loss: 0.0256 - val_accuracy: 0.8940 - val_loss: 0.6064 - learning_rate: 2.5000e-04\n",
            "Epoch 28/30\n",
            "\u001b[1m250/250\u001b[0m \u001b[32m━━━━━━━━━━━━━━━━━━━━\u001b[0m\u001b[37m\u001b[0m \u001b[1m144s\u001b[0m 481ms/step - accuracy: 0.9956 - loss: 0.0196 - val_accuracy: 0.8885 - val_loss: 0.6022 - learning_rate: 2.5000e-04\n",
            "Epoch 29/30\n",
            "\u001b[1m250/250\u001b[0m \u001b[32m━━━━━━━━━━━━━━━━━━━━\u001b[0m\u001b[37m\u001b[0m \u001b[1m121s\u001b[0m 485ms/step - accuracy: 0.9961 - loss: 0.0183 - val_accuracy: 0.8890 - val_loss: 0.6164 - learning_rate: 2.5000e-04\n",
            "Epoch 30/30\n",
            "\u001b[1m250/250\u001b[0m \u001b[32m━━━━━━━━━━━━━━━━━━━━\u001b[0m\u001b[37m\u001b[0m \u001b[1m138s\u001b[0m 467ms/step - accuracy: 0.9957 - loss: 0.0181 - val_accuracy: 0.8925 - val_loss: 0.6221 - learning_rate: 2.5000e-04\n"
          ]
        }
      ]
    },
    {
      "cell_type": "code",
      "source": [
        "test_loss, test_accuracy = model.evaluate(x_test_pad, y_test)\n",
        "print(f'Test Accuracy: {test_accuracy * 100:.2f}%')\n",
        "\n",
        "plt.plot(history.history['accuracy'], label='train accuracy')\n",
        "plt.plot(history.history['val_accuracy'], label='val accuracy')\n",
        "plt.xlabel('Epochs')\n",
        "plt.ylabel('Accuracy')\n",
        "plt.legend()\n",
        "plt.show()"
      ],
      "metadata": {
        "id": "pe28gxKR5hmO",
        "colab": {
          "base_uri": "https://localhost:8080/",
          "height": 484
        },
        "outputId": "a6ba7bc1-5adf-4ed3-a676-1e871e560a9c"
      },
      "execution_count": null,
      "outputs": [
        {
          "output_type": "stream",
          "name": "stdout",
          "text": [
            "\u001b[1m63/63\u001b[0m \u001b[32m━━━━━━━━━━━━━━━━━━━━\u001b[0m\u001b[37m\u001b[0m \u001b[1m5s\u001b[0m 86ms/step - accuracy: 0.8880 - loss: 0.5809\n",
            "Test Accuracy: 88.50%\n"
          ]
        },
        {
          "output_type": "display_data",
          "data": {
            "text/plain": [
              "<Figure size 640x480 with 1 Axes>"
            ],
            "image/png": "[encoded data removed]"
          },
          "metadata": {}
        }
      ]
    },
    {
      "cell_type": "code",
      "source": [
        "model.save('/content/drive/MyDrive/IPD/EmotionNLP_LSTM.h5')"
      ],
      "metadata": {
        "colab": {
          "base_uri": "https://localhost:8080/"
        },
        "id": "x72WgAQoLYVk",
        "outputId": "60283acf-1393-4488-a2f8-331dd57806f6"
      },
      "execution_count": null,
      "outputs": [
        {
          "output_type": "stream",
          "name": "stderr",
          "text": [
            "WARNING:absl:You are saving your model as an HDF5 file via `model.save()` or `keras.saving.save_model(model)`. This file format is considered legacy. We recommend using instead the native Keras format, e.g. `model.save('my_model.keras')` or `keras.saving.save_model(model, 'my_model.keras')`. \n"
          ]
        }
      ]
    },
    {
      "cell_type": "code",
      "source": [
        "print(x_test_pad[0])\n",
        "input_data = x_test_pad[0]\n",
        "\n",
        "input_data = np.expand_dims(input_data, axis=0)\n",
        "\n",
        "predictions = model.predict(input_data)\n",
        "print(predictions)"
      ],
      "metadata": {
        "colab": {
          "base_uri": "https://localhost:8080/"
        },
        "id": "1gma6KZvP06z",
        "outputId": "9362aaf3-919d-47ff-d0f6-82d66afc4900"
      },
      "execution_count": null,
      "outputs": [
        {
          "output_type": "stream",
          "name": "stdout",
          "text": [
            "[   4    2  106  584    4 4620   45    0    0    0    0    0    0    0\n",
            "    0    0    0    0    0    0    0    0    0    0    0    0    0    0\n",
            "    0    0    0    0    0    0    0    0    0    0    0    0    0    0\n",
            "    0    0    0    0    0    0    0    0]\n",
            "\u001b[1m1/1\u001b[0m \u001b[32m━━━━━━━━━━━━━━━━━━━━\u001b[0m\u001b[37m\u001b[0m \u001b[1m33s\u001b[0m 33s/step\n",
            "[[2.1785909e-05 1.1001594e-06 1.9333731e-06 3.3336553e-05 9.9994087e-01\n",
            "  9.9413955e-07]]\n"
          ]
        }
      ]
    }
  ]
}